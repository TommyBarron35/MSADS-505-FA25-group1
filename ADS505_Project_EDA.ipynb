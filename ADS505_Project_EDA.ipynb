{
  "cells": [
    {
      "cell_type": "markdown",
      "metadata": {
        "colab_type": "text",
        "id": "view-in-github"
      },
      "source": [
        "<a href=\"https://colab.research.google.com/github/darrencheninfo/ADS504_G1_Project/blob/main/ADS504_EDA.ipynb\" target=\"_parent\"><img src=\"https://colab.research.google.com/assets/colab-badge.svg\" alt=\"Open In Colab\"/></a>"
      ]
    },
    {
      "cell_type": "markdown",
      "metadata": {
        "id": "dnsac5dmbEuN"
      },
      "source": [
        "# Exploratory Data Analysis"
      ]
    },
    {
      "cell_type": "markdown",
      "metadata": {
        "id": "4drXT78MOfsB"
      },
      "source": [
        "This is the exploration of the Dept of Transportation Flight analytics data from 2009-2019 - looking at the various factors that may contribute to airline delays and predict how long these airlines will likely delay. "
      ]
    },
    {
      "cell_type": "markdown",
      "metadata": {
        "id": "aMQI-FbbbJg9"
      },
      "source": [
        "## Setup"
      ]
    },
    {
      "cell_type": "markdown",
      "metadata": {
        "id": "h2zzSxRgUc4U"
      },
      "source": [
        "### Get Libraries"
      ]
    },
    {
      "cell_type": "code",
      "execution_count": 20,
      "metadata": {
        "id": "CkKDgHxIa_hi"
      },
      "outputs": [],
      "source": [
        "# %pip install --upgrade numpy scipy\n",
        "# %pip install --upgrade cupy\n",
        "# %pip install missingno\n",
        "\n",
        "import numpy as np\n",
        "import pandas as pd\n",
        "import matplotlib.pyplot as plt\n",
        "import seaborn as sns\n",
        "import missingno as msno\n",
        "from sklearn.model_selection import train_test_split"
      ]
    },
    {
      "cell_type": "code",
      "execution_count": 12,
      "metadata": {
        "colab": {
          "base_uri": "https://localhost:8080/"
        },
        "id": "ePE6h-L2kg1i",
        "outputId": "66d8216d-0b48-41ef-ca24-946137a1d985"
      },
      "outputs": [],
      "source": [
        "# from google.colab import drive\n",
        "# drive.mount('/content/drive')"
      ]
    },
    {
      "cell_type": "markdown",
      "metadata": {
        "id": "fc90OlfkUk3v"
      },
      "source": [
        "### Import Dataset"
      ]
    },
    {
      "cell_type": "code",
      "execution_count": 13,
      "metadata": {
        "id": "0tu4EMphcAHj"
      },
      "outputs": [],
      "source": [
        "#import dataset\n",
        "# df = pd.read_sas('/content/drive/MyDrive/ADS 504 | Final Project/LLCP2023.XPT ', format='xport') # replace with your dataset path\n",
        "df = pd.read_csv(\"Data RAW/2009.csv\")"
      ]
    },
    {
      "cell_type": "code",
      "execution_count": 14,
      "metadata": {
        "colab": {
          "base_uri": "https://localhost:8080/"
        },
        "id": "sUBiIneNcOv-",
        "outputId": "31e53db3-5b7a-4fc0-b6d7-175e6b0d6111"
      },
      "outputs": [
        {
          "name": "stdout",
          "output_type": "stream",
          "text": [
            "<class 'pandas.core.frame.DataFrame'>\n",
            "RangeIndex: 6429338 entries, 0 to 6429337\n",
            "Data columns (total 28 columns):\n",
            " #   Column               Dtype  \n",
            "---  ------               -----  \n",
            " 0   FL_DATE              object \n",
            " 1   OP_CARRIER           object \n",
            " 2   OP_CARRIER_FL_NUM    int64  \n",
            " 3   ORIGIN               object \n",
            " 4   DEST                 object \n",
            " 5   CRS_DEP_TIME         int64  \n",
            " 6   DEP_TIME             float64\n",
            " 7   DEP_DELAY            float64\n",
            " 8   TAXI_OUT             float64\n",
            " 9   WHEELS_OFF           float64\n",
            " 10  WHEELS_ON            float64\n",
            " 11  TAXI_IN              float64\n",
            " 12  CRS_ARR_TIME         int64  \n",
            " 13  ARR_TIME             float64\n",
            " 14  ARR_DELAY            float64\n",
            " 15  CANCELLED            float64\n",
            " 16  CANCELLATION_CODE    object \n",
            " 17  DIVERTED             float64\n",
            " 18  CRS_ELAPSED_TIME     float64\n",
            " 19  ACTUAL_ELAPSED_TIME  float64\n",
            " 20  AIR_TIME             float64\n",
            " 21  DISTANCE             float64\n",
            " 22  CARRIER_DELAY        float64\n",
            " 23  WEATHER_DELAY        float64\n",
            " 24  NAS_DELAY            float64\n",
            " 25  SECURITY_DELAY       float64\n",
            " 26  LATE_AIRCRAFT_DELAY  float64\n",
            " 27  Unnamed: 27          float64\n",
            "dtypes: float64(20), int64(3), object(5)\n",
            "memory usage: 1.3+ GB\n"
          ]
        },
        {
          "data": {
            "application/vnd.microsoft.datawrangler.viewer.v0+json": {
              "columns": [
                {
                  "name": "index",
                  "rawType": "int64",
                  "type": "integer"
                },
                {
                  "name": "FL_DATE",
                  "rawType": "object",
                  "type": "string"
                },
                {
                  "name": "OP_CARRIER",
                  "rawType": "object",
                  "type": "string"
                },
                {
                  "name": "OP_CARRIER_FL_NUM",
                  "rawType": "int64",
                  "type": "integer"
                },
                {
                  "name": "ORIGIN",
                  "rawType": "object",
                  "type": "string"
                },
                {
                  "name": "DEST",
                  "rawType": "object",
                  "type": "string"
                },
                {
                  "name": "CRS_DEP_TIME",
                  "rawType": "int64",
                  "type": "integer"
                },
                {
                  "name": "DEP_TIME",
                  "rawType": "float64",
                  "type": "float"
                },
                {
                  "name": "DEP_DELAY",
                  "rawType": "float64",
                  "type": "float"
                },
                {
                  "name": "TAXI_OUT",
                  "rawType": "float64",
                  "type": "float"
                },
                {
                  "name": "WHEELS_OFF",
                  "rawType": "float64",
                  "type": "float"
                },
                {
                  "name": "WHEELS_ON",
                  "rawType": "float64",
                  "type": "float"
                },
                {
                  "name": "TAXI_IN",
                  "rawType": "float64",
                  "type": "float"
                },
                {
                  "name": "CRS_ARR_TIME",
                  "rawType": "int64",
                  "type": "integer"
                },
                {
                  "name": "ARR_TIME",
                  "rawType": "float64",
                  "type": "float"
                },
                {
                  "name": "ARR_DELAY",
                  "rawType": "float64",
                  "type": "float"
                },
                {
                  "name": "CANCELLED",
                  "rawType": "float64",
                  "type": "float"
                },
                {
                  "name": "CANCELLATION_CODE",
                  "rawType": "object",
                  "type": "unknown"
                },
                {
                  "name": "DIVERTED",
                  "rawType": "float64",
                  "type": "float"
                },
                {
                  "name": "CRS_ELAPSED_TIME",
                  "rawType": "float64",
                  "type": "float"
                },
                {
                  "name": "ACTUAL_ELAPSED_TIME",
                  "rawType": "float64",
                  "type": "float"
                },
                {
                  "name": "AIR_TIME",
                  "rawType": "float64",
                  "type": "float"
                },
                {
                  "name": "DISTANCE",
                  "rawType": "float64",
                  "type": "float"
                },
                {
                  "name": "CARRIER_DELAY",
                  "rawType": "float64",
                  "type": "float"
                },
                {
                  "name": "WEATHER_DELAY",
                  "rawType": "float64",
                  "type": "float"
                },
                {
                  "name": "NAS_DELAY",
                  "rawType": "float64",
                  "type": "float"
                },
                {
                  "name": "SECURITY_DELAY",
                  "rawType": "float64",
                  "type": "float"
                },
                {
                  "name": "LATE_AIRCRAFT_DELAY",
                  "rawType": "float64",
                  "type": "float"
                },
                {
                  "name": "Unnamed: 27",
                  "rawType": "float64",
                  "type": "float"
                }
              ],
              "ref": "40bb7869-ea1e-40e9-9c2b-b55102b7a34f",
              "rows": [
                [
                  "0",
                  "2009-01-01",
                  "XE",
                  "1204",
                  "DCA",
                  "EWR",
                  "1100",
                  "1058.0",
                  "-2.0",
                  "18.0",
                  "1116.0",
                  "1158.0",
                  "8.0",
                  "1202",
                  "1206.0",
                  "4.0",
                  "0.0",
                  null,
                  "0.0",
                  "62.0",
                  "68.0",
                  "42.0",
                  "199.0",
                  null,
                  null,
                  null,
                  null,
                  null,
                  null
                ],
                [
                  "1",
                  "2009-01-01",
                  "XE",
                  "1206",
                  "EWR",
                  "IAD",
                  "1510",
                  "1509.0",
                  "-1.0",
                  "28.0",
                  "1537.0",
                  "1620.0",
                  "4.0",
                  "1632",
                  "1624.0",
                  "-8.0",
                  "0.0",
                  null,
                  "0.0",
                  "82.0",
                  "75.0",
                  "43.0",
                  "213.0",
                  null,
                  null,
                  null,
                  null,
                  null,
                  null
                ],
                [
                  "2",
                  "2009-01-01",
                  "XE",
                  "1207",
                  "EWR",
                  "DCA",
                  "1100",
                  "1059.0",
                  "-1.0",
                  "20.0",
                  "1119.0",
                  "1155.0",
                  "6.0",
                  "1210",
                  "1201.0",
                  "-9.0",
                  "0.0",
                  null,
                  "0.0",
                  "70.0",
                  "62.0",
                  "36.0",
                  "199.0",
                  null,
                  null,
                  null,
                  null,
                  null,
                  null
                ],
                [
                  "3",
                  "2009-01-01",
                  "XE",
                  "1208",
                  "DCA",
                  "EWR",
                  "1240",
                  "1249.0",
                  "9.0",
                  "10.0",
                  "1259.0",
                  "1336.0",
                  "9.0",
                  "1357",
                  "1345.0",
                  "-12.0",
                  "0.0",
                  null,
                  "0.0",
                  "77.0",
                  "56.0",
                  "37.0",
                  "199.0",
                  null,
                  null,
                  null,
                  null,
                  null,
                  null
                ],
                [
                  "4",
                  "2009-01-01",
                  "XE",
                  "1209",
                  "IAD",
                  "EWR",
                  "1715",
                  "1705.0",
                  "-10.0",
                  "24.0",
                  "1729.0",
                  "1809.0",
                  "13.0",
                  "1900",
                  "1822.0",
                  "-38.0",
                  "0.0",
                  null,
                  "0.0",
                  "105.0",
                  "77.0",
                  "40.0",
                  "213.0",
                  null,
                  null,
                  null,
                  null,
                  null,
                  null
                ]
              ],
              "shape": {
                "columns": 28,
                "rows": 5
              }
            },
            "text/html": [
              "<div>\n",
              "<style scoped>\n",
              "    .dataframe tbody tr th:only-of-type {\n",
              "        vertical-align: middle;\n",
              "    }\n",
              "\n",
              "    .dataframe tbody tr th {\n",
              "        vertical-align: top;\n",
              "    }\n",
              "\n",
              "    .dataframe thead th {\n",
              "        text-align: right;\n",
              "    }\n",
              "</style>\n",
              "<table border=\"1\" class=\"dataframe\">\n",
              "  <thead>\n",
              "    <tr style=\"text-align: right;\">\n",
              "      <th></th>\n",
              "      <th>FL_DATE</th>\n",
              "      <th>OP_CARRIER</th>\n",
              "      <th>OP_CARRIER_FL_NUM</th>\n",
              "      <th>ORIGIN</th>\n",
              "      <th>DEST</th>\n",
              "      <th>CRS_DEP_TIME</th>\n",
              "      <th>DEP_TIME</th>\n",
              "      <th>DEP_DELAY</th>\n",
              "      <th>TAXI_OUT</th>\n",
              "      <th>WHEELS_OFF</th>\n",
              "      <th>...</th>\n",
              "      <th>CRS_ELAPSED_TIME</th>\n",
              "      <th>ACTUAL_ELAPSED_TIME</th>\n",
              "      <th>AIR_TIME</th>\n",
              "      <th>DISTANCE</th>\n",
              "      <th>CARRIER_DELAY</th>\n",
              "      <th>WEATHER_DELAY</th>\n",
              "      <th>NAS_DELAY</th>\n",
              "      <th>SECURITY_DELAY</th>\n",
              "      <th>LATE_AIRCRAFT_DELAY</th>\n",
              "      <th>Unnamed: 27</th>\n",
              "    </tr>\n",
              "  </thead>\n",
              "  <tbody>\n",
              "    <tr>\n",
              "      <th>0</th>\n",
              "      <td>2009-01-01</td>\n",
              "      <td>XE</td>\n",
              "      <td>1204</td>\n",
              "      <td>DCA</td>\n",
              "      <td>EWR</td>\n",
              "      <td>1100</td>\n",
              "      <td>1058.0</td>\n",
              "      <td>-2.0</td>\n",
              "      <td>18.0</td>\n",
              "      <td>1116.0</td>\n",
              "      <td>...</td>\n",
              "      <td>62.0</td>\n",
              "      <td>68.0</td>\n",
              "      <td>42.0</td>\n",
              "      <td>199.0</td>\n",
              "      <td>NaN</td>\n",
              "      <td>NaN</td>\n",
              "      <td>NaN</td>\n",
              "      <td>NaN</td>\n",
              "      <td>NaN</td>\n",
              "      <td>NaN</td>\n",
              "    </tr>\n",
              "    <tr>\n",
              "      <th>1</th>\n",
              "      <td>2009-01-01</td>\n",
              "      <td>XE</td>\n",
              "      <td>1206</td>\n",
              "      <td>EWR</td>\n",
              "      <td>IAD</td>\n",
              "      <td>1510</td>\n",
              "      <td>1509.0</td>\n",
              "      <td>-1.0</td>\n",
              "      <td>28.0</td>\n",
              "      <td>1537.0</td>\n",
              "      <td>...</td>\n",
              "      <td>82.0</td>\n",
              "      <td>75.0</td>\n",
              "      <td>43.0</td>\n",
              "      <td>213.0</td>\n",
              "      <td>NaN</td>\n",
              "      <td>NaN</td>\n",
              "      <td>NaN</td>\n",
              "      <td>NaN</td>\n",
              "      <td>NaN</td>\n",
              "      <td>NaN</td>\n",
              "    </tr>\n",
              "    <tr>\n",
              "      <th>2</th>\n",
              "      <td>2009-01-01</td>\n",
              "      <td>XE</td>\n",
              "      <td>1207</td>\n",
              "      <td>EWR</td>\n",
              "      <td>DCA</td>\n",
              "      <td>1100</td>\n",
              "      <td>1059.0</td>\n",
              "      <td>-1.0</td>\n",
              "      <td>20.0</td>\n",
              "      <td>1119.0</td>\n",
              "      <td>...</td>\n",
              "      <td>70.0</td>\n",
              "      <td>62.0</td>\n",
              "      <td>36.0</td>\n",
              "      <td>199.0</td>\n",
              "      <td>NaN</td>\n",
              "      <td>NaN</td>\n",
              "      <td>NaN</td>\n",
              "      <td>NaN</td>\n",
              "      <td>NaN</td>\n",
              "      <td>NaN</td>\n",
              "    </tr>\n",
              "    <tr>\n",
              "      <th>3</th>\n",
              "      <td>2009-01-01</td>\n",
              "      <td>XE</td>\n",
              "      <td>1208</td>\n",
              "      <td>DCA</td>\n",
              "      <td>EWR</td>\n",
              "      <td>1240</td>\n",
              "      <td>1249.0</td>\n",
              "      <td>9.0</td>\n",
              "      <td>10.0</td>\n",
              "      <td>1259.0</td>\n",
              "      <td>...</td>\n",
              "      <td>77.0</td>\n",
              "      <td>56.0</td>\n",
              "      <td>37.0</td>\n",
              "      <td>199.0</td>\n",
              "      <td>NaN</td>\n",
              "      <td>NaN</td>\n",
              "      <td>NaN</td>\n",
              "      <td>NaN</td>\n",
              "      <td>NaN</td>\n",
              "      <td>NaN</td>\n",
              "    </tr>\n",
              "    <tr>\n",
              "      <th>4</th>\n",
              "      <td>2009-01-01</td>\n",
              "      <td>XE</td>\n",
              "      <td>1209</td>\n",
              "      <td>IAD</td>\n",
              "      <td>EWR</td>\n",
              "      <td>1715</td>\n",
              "      <td>1705.0</td>\n",
              "      <td>-10.0</td>\n",
              "      <td>24.0</td>\n",
              "      <td>1729.0</td>\n",
              "      <td>...</td>\n",
              "      <td>105.0</td>\n",
              "      <td>77.0</td>\n",
              "      <td>40.0</td>\n",
              "      <td>213.0</td>\n",
              "      <td>NaN</td>\n",
              "      <td>NaN</td>\n",
              "      <td>NaN</td>\n",
              "      <td>NaN</td>\n",
              "      <td>NaN</td>\n",
              "      <td>NaN</td>\n",
              "    </tr>\n",
              "  </tbody>\n",
              "</table>\n",
              "<p>5 rows × 28 columns</p>\n",
              "</div>"
            ],
            "text/plain": [
              "      FL_DATE OP_CARRIER  OP_CARRIER_FL_NUM ORIGIN DEST  CRS_DEP_TIME  \\\n",
              "0  2009-01-01         XE               1204    DCA  EWR          1100   \n",
              "1  2009-01-01         XE               1206    EWR  IAD          1510   \n",
              "2  2009-01-01         XE               1207    EWR  DCA          1100   \n",
              "3  2009-01-01         XE               1208    DCA  EWR          1240   \n",
              "4  2009-01-01         XE               1209    IAD  EWR          1715   \n",
              "\n",
              "   DEP_TIME  DEP_DELAY  TAXI_OUT  WHEELS_OFF  ...  CRS_ELAPSED_TIME  \\\n",
              "0    1058.0       -2.0      18.0      1116.0  ...              62.0   \n",
              "1    1509.0       -1.0      28.0      1537.0  ...              82.0   \n",
              "2    1059.0       -1.0      20.0      1119.0  ...              70.0   \n",
              "3    1249.0        9.0      10.0      1259.0  ...              77.0   \n",
              "4    1705.0      -10.0      24.0      1729.0  ...             105.0   \n",
              "\n",
              "   ACTUAL_ELAPSED_TIME  AIR_TIME  DISTANCE  CARRIER_DELAY  WEATHER_DELAY  \\\n",
              "0                 68.0      42.0     199.0            NaN            NaN   \n",
              "1                 75.0      43.0     213.0            NaN            NaN   \n",
              "2                 62.0      36.0     199.0            NaN            NaN   \n",
              "3                 56.0      37.0     199.0            NaN            NaN   \n",
              "4                 77.0      40.0     213.0            NaN            NaN   \n",
              "\n",
              "  NAS_DELAY  SECURITY_DELAY  LATE_AIRCRAFT_DELAY  Unnamed: 27  \n",
              "0       NaN             NaN                  NaN          NaN  \n",
              "1       NaN             NaN                  NaN          NaN  \n",
              "2       NaN             NaN                  NaN          NaN  \n",
              "3       NaN             NaN                  NaN          NaN  \n",
              "4       NaN             NaN                  NaN          NaN  \n",
              "\n",
              "[5 rows x 28 columns]"
            ]
          },
          "execution_count": 14,
          "metadata": {},
          "output_type": "execute_result"
        }
      ],
      "source": [
        "df.shape\n",
        "\n",
        "df.info()\n",
        "\n",
        "df.head()"
      ]
    },
    {
      "cell_type": "code",
      "execution_count": 15,
      "metadata": {},
      "outputs": [
        {
          "data": {
            "text/plain": [
              "(6450117, 28)"
            ]
          },
          "execution_count": 15,
          "metadata": {},
          "output_type": "execute_result"
        }
      ],
      "source": [
        "df_2010 = pd.read_csv(\"Data RAW/2010.csv\")\n",
        "\n",
        "df_2010.shape"
      ]
    },
    {
      "cell_type": "code",
      "execution_count": 16,
      "metadata": {},
      "outputs": [
        {
          "name": "stdout",
          "output_type": "stream",
          "text": [
            "Index(['FL_DATE', 'OP_CARRIER', 'OP_CARRIER_FL_NUM', 'ORIGIN', 'DEST',\n",
            "       'CRS_DEP_TIME', 'DEP_TIME', 'DEP_DELAY', 'TAXI_OUT', 'WHEELS_OFF',\n",
            "       'WHEELS_ON', 'TAXI_IN', 'CRS_ARR_TIME', 'ARR_TIME', 'ARR_DELAY',\n",
            "       'CANCELLED', 'CANCELLATION_CODE', 'DIVERTED', 'CRS_ELAPSED_TIME',\n",
            "       'ACTUAL_ELAPSED_TIME', 'AIR_TIME', 'DISTANCE', 'CARRIER_DELAY',\n",
            "       'WEATHER_DELAY', 'NAS_DELAY', 'SECURITY_DELAY', 'LATE_AIRCRAFT_DELAY',\n",
            "       'Unnamed: 27'],\n",
            "      dtype='object')\n"
          ]
        }
      ],
      "source": [
        "print(df_2010.columns)"
      ]
    },
    {
      "cell_type": "code",
      "execution_count": null,
      "metadata": {
        "id": "GvAlOpWdkjYL"
      },
      "outputs": [
        {
          "name": "stdout",
          "output_type": "stream",
          "text": [
            "Rows: 6,429,338 | Cols: 28\n",
            "\n",
            "Column dtypes:\n",
            "FL_DATE                 object\n",
            "OP_CARRIER              object\n",
            "OP_CARRIER_FL_NUM        int64\n",
            "ORIGIN                  object\n",
            "DEST                    object\n",
            "CRS_DEP_TIME             int64\n",
            "DEP_TIME               float64\n",
            "DEP_DELAY              float64\n",
            "TAXI_OUT               float64\n",
            "WHEELS_OFF             float64\n",
            "WHEELS_ON              float64\n",
            "TAXI_IN                float64\n",
            "CRS_ARR_TIME             int64\n",
            "ARR_TIME               float64\n",
            "ARR_DELAY              float64\n",
            "CANCELLED              float64\n",
            "CANCELLATION_CODE       object\n",
            "DIVERTED               float64\n",
            "CRS_ELAPSED_TIME       float64\n",
            "ACTUAL_ELAPSED_TIME    float64\n",
            "AIR_TIME               float64\n",
            "DISTANCE               float64\n",
            "CARRIER_DELAY          float64\n",
            "WEATHER_DELAY          float64\n",
            "NAS_DELAY              float64\n",
            "SECURITY_DELAY         float64\n",
            "LATE_AIRCRAFT_DELAY    float64\n",
            "Unnamed: 27            float64\n",
            "dtype: object\n",
            "\n",
            "Dropped artifact columns: ['Unnamed: 27']\n"
          ]
        }
      ],
      "source": [
        "# 1) Basic shape, columns, dtypes\n",
        "\n",
        "print(f\"Rows: {len(df):,} | Cols: {df.shape[1]}\")\n",
        "print(\"\\nColumn dtypes:\")\n",
        "print(df.dtypes)\n",
        "\n",
        "# Drop obvious artifacts (e.g., unnamed columns)\n",
        "artifact_cols = [c for c in df.columns if c.lower().startswith(\"unnamed\")]\n",
        "if artifact_cols:\n",
        "    df = df.drop(columns=artifact_cols)\n",
        "    print(f\"\\nDropped artifact columns: {artifact_cols}\")\n",
        "\n",
        "\n",
        "# 2) Standardize column names (optional tidy)\n",
        "\n",
        "df.columns = (\n",
        "    df.columns\n",
        "      .str.strip()\n",
        "      .str.replace(r\"\\s+\", \"_\", regex=True)\n",
        "      .str.replace(\"[^0-9a-zA-Z_]\", \"\", regex=True)\n",
        "      .str.upper()\n",
        ")\n",
        "\n",
        "\n",
        "# 3) Known schema helpers & safe numeric conversions\n",
        "\n",
        "# Columns present in your sample (adjust if your file differs)\n",
        "time_like_cols = [\n",
        "    \"CRS_DEP_TIME\", \"DEP_TIME\", \"WHEELS_OFF\", \"WHEELS_ON\",\n",
        "    \"CRS_ARR_TIME\", \"ARR_TIME\"\n",
        "]\n",
        "delay_cols = [\n",
        "    \"DEP_DELAY\", \"ARR_DELAY\", \"CARRIER_DELAY\", \"WEATHER_DELAY\",\n",
        "    \"NAS_DELAY\", \"SECURITY_DELAY\", \"LATE_AIRCRAFT_DELAY\"\n",
        "]\n",
        "duration_cols = [\"TAXI_OUT\", \"TAXI_IN\", \"CRS_ELAPSED_TIME\", \"ACTUAL_ELAPSED_TIME\", \"AIR_TIME\"]\n",
        "binary_indicator_cols = [\"CANCELLED\", \"DIVERTED\"]\n",
        "id_like_cols = [\"OP_CARRIER_FL_NUM\", \"DISTANCE\"]\n"
      ]
    },
    {
      "cell_type": "code",
      "execution_count": 18,
      "metadata": {},
      "outputs": [],
      "source": [
        "\n",
        "# Coerce numerics safely (keeps NaN for non-convertible)\n",
        "to_numeric_cols = list(set(time_like_cols + delay_cols + duration_cols + binary_indicator_cols + id_like_cols) & set(df.columns))\n",
        "for c in to_numeric_cols:\n",
        "    df[c] = pd.to_numeric(df[c], errors=\"coerce\")\n",
        "\n",
        "\n"
      ]
    },
    {
      "cell_type": "code",
      "execution_count": 21,
      "metadata": {},
      "outputs": [],
      "source": [
        "# 4) Parse dates & clock HHMM ints\n",
        "\n",
        "def hhmm_to_minutes(x):\n",
        "    \"\"\"Convert HHMM (e.g., 705, 1305) to minutes since midnight.\"\"\"\n",
        "    if pd.isna(x):\n",
        "        return np.nan\n",
        "    x = int(x)\n",
        "    hh, mm = divmod(x, 100)\n",
        "    if (hh < 0) or (hh > 23) or (mm < 0) or (mm > 59):\n",
        "        return np.nan\n",
        "    return hh * 60 + mm\n",
        "\n",
        "def combine_date_time(date_series, hhmm_series):\n",
        "    \"\"\"Combine FL_DATE (YYYY-MM-DD) with HHMM into pandas datetime (naive, local).\"\"\"\n",
        "    mins = hhmm_series.apply(hhmm_to_minutes)\n",
        "    # midnight anchor; add minutes\n",
        "    dt = pd.to_datetime(date_series, errors=\"coerce\") + pd.to_timedelta(mins, unit=\"m\")\n",
        "    return dt\n",
        "\n",
        "# Parse FL_DATE\n",
        "if \"FL_DATE\" in df.columns:\n",
        "    df[\"FL_DATE\"] = pd.to_datetime(df[\"FL_DATE\"], errors=\"coerce\")\n",
        "\n",
        "# Create datetime stamps (naive local time)\n",
        "if set([\"FL_DATE\", \"CRS_DEP_TIME\"]).issubset(df.columns):\n",
        "    df[\"CRS_DEP_DT\"] = combine_date_time(df[\"FL_DATE\"], df[\"CRS_DEP_TIME\"])\n",
        "if set([\"FL_DATE\", \"DEP_TIME\"]).issubset(df.columns):\n",
        "    df[\"DEP_DT\"] = combine_date_time(df[\"FL_DATE\"], df[\"DEP_TIME\"])\n",
        "if set([\"FL_DATE\", \"CRS_ARR_TIME\"]).issubset(df.columns):\n",
        "    # NOTE: arrival may be next day; adjust if actual < scheduled or elapsed > 24h as needed\n",
        "    df[\"CRS_ARR_DT\"] = combine_date_time(df[\"FL_DATE\"], df[\"CRS_ARR_TIME\"])\n",
        "if set([\"FL_DATE\", \"ARR_TIME\"]).issubset(df.columns):\n",
        "    df[\"ARR_DT\"] = combine_date_time(df[\"FL_DATE\"], df[\"ARR_TIME\"])\n",
        "\n",
        "# Simple next-day correction for arrivals crossing midnight (optional)\n",
        "if {\"CRS_DEP_DT\", \"CRS_ARR_DT\"}.issubset(df.columns):\n",
        "    mask_next = (df[\"CRS_ARR_DT\"] < df[\"CRS_DEP_DT\"])\n",
        "    df.loc[mask_next, \"CRS_ARR_DT\"] = df.loc[mask_next, \"CRS_ARR_DT\"] + pd.Timedelta(days=1)\n",
        "if {\"DEP_DT\", \"ARR_DT\"}.issubset(df.columns):\n",
        "    mask_next = (df[\"ARR_DT\"] < df[\"DEP_DT\"])\n",
        "    df.loc[mask_next, \"ARR_DT\"] = df.loc[mask_next, \"ARR_DT\"] + pd.Timedelta(days=1)\n",
        "\n"
      ]
    },
    {
      "cell_type": "code",
      "execution_count": 22,
      "metadata": {},
      "outputs": [],
      "source": [
        "\n",
        "# 5) Cancellation codes & binary targets\n",
        "\n",
        "# Normalize CANCELLED/DIVERTED to 0/1 ints\n",
        "for c in [\"CANCELLED\", \"DIVERTED\"]:\n",
        "    if c in df.columns:\n",
        "        df[c] = (df[c].fillna(0) > 0).astype(\"int8\")\n",
        "\n",
        "# Map cancellation reason codes\n",
        "if \"CANCELLATION_CODE\" in df.columns:\n",
        "    code_map = {\"A\": \"Carrier\", \"B\": \"Weather\", \"C\": \"NAS\", \"D\": \"Security\"}\n",
        "    df[\"CANCELLATION_REASON\"] = df[\"CANCELLATION_CODE\"].map(code_map)\n",
        "\n",
        "# A practical business target: arrival delay ≥ 15 minutes\n",
        "if \"ARR_DELAY\" in df.columns:\n",
        "    df[\"IS_DELAYED_15\"] = (df[\"ARR_DELAY\"].fillna(0) >= 15).astype(\"int8\")\n",
        "\n"
      ]
    },
    {
      "cell_type": "code",
      "execution_count": 23,
      "metadata": {},
      "outputs": [
        {
          "name": "stdout",
          "output_type": "stream",
          "text": [
            "\n",
            "Missingness (%):\n"
          ]
        },
        {
          "data": {
            "application/vnd.microsoft.datawrangler.viewer.v0+json": {
              "columns": [
                {
                  "name": "index",
                  "rawType": "object",
                  "type": "string"
                },
                {
                  "name": "missing_%",
                  "rawType": "float64",
                  "type": "float"
                },
                {
                  "name": "n_missing",
                  "rawType": "int32",
                  "type": "integer"
                }
              ],
              "ref": "8999eb97-5822-4838-beaa-836c4e2a6ddf",
              "rows": [
                [
                  "CANCELLATION_CODE",
                  "98.65",
                  "634230000"
                ],
                [
                  "CANCELLATION_REASON",
                  "98.65",
                  "634230000"
                ],
                [
                  "CARRIER_DELAY",
                  "81.79",
                  "525883700"
                ],
                [
                  "WEATHER_DELAY",
                  "81.79",
                  "525883700"
                ],
                [
                  "NAS_DELAY",
                  "81.79",
                  "525883700"
                ],
                [
                  "SECURITY_DELAY",
                  "81.79",
                  "525883700"
                ],
                [
                  "LATE_AIRCRAFT_DELAY",
                  "81.79",
                  "525883700"
                ],
                [
                  "ACTUAL_ELAPSED_TIME",
                  "1.59",
                  "10236200"
                ],
                [
                  "AIR_TIME",
                  "1.59",
                  "10236100"
                ],
                [
                  "ARR_DELAY",
                  "1.59",
                  "10236100"
                ],
                [
                  "ARR_DT",
                  "1.42",
                  "9143200"
                ],
                [
                  "ARR_TIME",
                  "1.39",
                  "8932200"
                ],
                [
                  "WHEELS_ON",
                  "1.39",
                  "8932200"
                ],
                [
                  "TAXI_IN",
                  "1.39",
                  "8932100"
                ],
                [
                  "WHEELS_OFF",
                  "1.33",
                  "8578700"
                ],
                [
                  "TAXI_OUT",
                  "1.33",
                  "8578700"
                ],
                [
                  "DEP_TIME",
                  "1.29",
                  "8286700"
                ],
                [
                  "DEP_DT",
                  "1.29",
                  "8313100"
                ],
                [
                  "DEP_DELAY",
                  "1.29",
                  "8286700"
                ],
                [
                  "CRS_ARR_DT",
                  "0.0",
                  "100"
                ]
              ],
              "shape": {
                "columns": 2,
                "rows": 20
              }
            },
            "text/html": [
              "<div>\n",
              "<style scoped>\n",
              "    .dataframe tbody tr th:only-of-type {\n",
              "        vertical-align: middle;\n",
              "    }\n",
              "\n",
              "    .dataframe tbody tr th {\n",
              "        vertical-align: top;\n",
              "    }\n",
              "\n",
              "    .dataframe thead th {\n",
              "        text-align: right;\n",
              "    }\n",
              "</style>\n",
              "<table border=\"1\" class=\"dataframe\">\n",
              "  <thead>\n",
              "    <tr style=\"text-align: right;\">\n",
              "      <th></th>\n",
              "      <th>missing_%</th>\n",
              "      <th>n_missing</th>\n",
              "    </tr>\n",
              "  </thead>\n",
              "  <tbody>\n",
              "    <tr>\n",
              "      <th>CANCELLATION_CODE</th>\n",
              "      <td>98.65</td>\n",
              "      <td>634230000</td>\n",
              "    </tr>\n",
              "    <tr>\n",
              "      <th>CANCELLATION_REASON</th>\n",
              "      <td>98.65</td>\n",
              "      <td>634230000</td>\n",
              "    </tr>\n",
              "    <tr>\n",
              "      <th>CARRIER_DELAY</th>\n",
              "      <td>81.79</td>\n",
              "      <td>525883700</td>\n",
              "    </tr>\n",
              "    <tr>\n",
              "      <th>WEATHER_DELAY</th>\n",
              "      <td>81.79</td>\n",
              "      <td>525883700</td>\n",
              "    </tr>\n",
              "    <tr>\n",
              "      <th>NAS_DELAY</th>\n",
              "      <td>81.79</td>\n",
              "      <td>525883700</td>\n",
              "    </tr>\n",
              "    <tr>\n",
              "      <th>SECURITY_DELAY</th>\n",
              "      <td>81.79</td>\n",
              "      <td>525883700</td>\n",
              "    </tr>\n",
              "    <tr>\n",
              "      <th>LATE_AIRCRAFT_DELAY</th>\n",
              "      <td>81.79</td>\n",
              "      <td>525883700</td>\n",
              "    </tr>\n",
              "    <tr>\n",
              "      <th>ACTUAL_ELAPSED_TIME</th>\n",
              "      <td>1.59</td>\n",
              "      <td>10236200</td>\n",
              "    </tr>\n",
              "    <tr>\n",
              "      <th>AIR_TIME</th>\n",
              "      <td>1.59</td>\n",
              "      <td>10236100</td>\n",
              "    </tr>\n",
              "    <tr>\n",
              "      <th>ARR_DELAY</th>\n",
              "      <td>1.59</td>\n",
              "      <td>10236100</td>\n",
              "    </tr>\n",
              "    <tr>\n",
              "      <th>ARR_DT</th>\n",
              "      <td>1.42</td>\n",
              "      <td>9143200</td>\n",
              "    </tr>\n",
              "    <tr>\n",
              "      <th>ARR_TIME</th>\n",
              "      <td>1.39</td>\n",
              "      <td>8932200</td>\n",
              "    </tr>\n",
              "    <tr>\n",
              "      <th>WHEELS_ON</th>\n",
              "      <td>1.39</td>\n",
              "      <td>8932200</td>\n",
              "    </tr>\n",
              "    <tr>\n",
              "      <th>TAXI_IN</th>\n",
              "      <td>1.39</td>\n",
              "      <td>8932100</td>\n",
              "    </tr>\n",
              "    <tr>\n",
              "      <th>WHEELS_OFF</th>\n",
              "      <td>1.33</td>\n",
              "      <td>8578700</td>\n",
              "    </tr>\n",
              "    <tr>\n",
              "      <th>TAXI_OUT</th>\n",
              "      <td>1.33</td>\n",
              "      <td>8578700</td>\n",
              "    </tr>\n",
              "    <tr>\n",
              "      <th>DEP_TIME</th>\n",
              "      <td>1.29</td>\n",
              "      <td>8286700</td>\n",
              "    </tr>\n",
              "    <tr>\n",
              "      <th>DEP_DT</th>\n",
              "      <td>1.29</td>\n",
              "      <td>8313100</td>\n",
              "    </tr>\n",
              "    <tr>\n",
              "      <th>DEP_DELAY</th>\n",
              "      <td>1.29</td>\n",
              "      <td>8286700</td>\n",
              "    </tr>\n",
              "    <tr>\n",
              "      <th>CRS_ARR_DT</th>\n",
              "      <td>0.00</td>\n",
              "      <td>100</td>\n",
              "    </tr>\n",
              "  </tbody>\n",
              "</table>\n",
              "</div>"
            ],
            "text/plain": [
              "                     missing_%  n_missing\n",
              "CANCELLATION_CODE        98.65  634230000\n",
              "CANCELLATION_REASON      98.65  634230000\n",
              "CARRIER_DELAY            81.79  525883700\n",
              "WEATHER_DELAY            81.79  525883700\n",
              "NAS_DELAY                81.79  525883700\n",
              "SECURITY_DELAY           81.79  525883700\n",
              "LATE_AIRCRAFT_DELAY      81.79  525883700\n",
              "ACTUAL_ELAPSED_TIME       1.59   10236200\n",
              "AIR_TIME                  1.59   10236100\n",
              "ARR_DELAY                 1.59   10236100\n",
              "ARR_DT                    1.42    9143200\n",
              "ARR_TIME                  1.39    8932200\n",
              "WHEELS_ON                 1.39    8932200\n",
              "TAXI_IN                   1.39    8932100\n",
              "WHEELS_OFF                1.33    8578700\n",
              "TAXI_OUT                  1.33    8578700\n",
              "DEP_TIME                  1.29    8286700\n",
              "DEP_DT                    1.29    8313100\n",
              "DEP_DELAY                 1.29    8286700\n",
              "CRS_ARR_DT                0.00        100"
            ]
          },
          "metadata": {},
          "output_type": "display_data"
        },
        {
          "name": "stdout",
          "output_type": "stream",
          "text": [
            "\n",
            "Numeric describe (selected):\n"
          ]
        },
        {
          "data": {
            "application/vnd.microsoft.datawrangler.viewer.v0+json": {
              "columns": [
                {
                  "name": "index",
                  "rawType": "object",
                  "type": "string"
                },
                {
                  "name": "count",
                  "rawType": "float64",
                  "type": "float"
                },
                {
                  "name": "mean",
                  "rawType": "float64",
                  "type": "float"
                },
                {
                  "name": "std",
                  "rawType": "float64",
                  "type": "float"
                },
                {
                  "name": "min",
                  "rawType": "float64",
                  "type": "float"
                },
                {
                  "name": "1%",
                  "rawType": "float64",
                  "type": "float"
                },
                {
                  "name": "5%",
                  "rawType": "float64",
                  "type": "float"
                },
                {
                  "name": "25%",
                  "rawType": "float64",
                  "type": "float"
                },
                {
                  "name": "50%",
                  "rawType": "float64",
                  "type": "float"
                },
                {
                  "name": "75%",
                  "rawType": "float64",
                  "type": "float"
                },
                {
                  "name": "95%",
                  "rawType": "float64",
                  "type": "float"
                },
                {
                  "name": "99%",
                  "rawType": "float64",
                  "type": "float"
                },
                {
                  "name": "max",
                  "rawType": "float64",
                  "type": "float"
                }
              ],
              "ref": "15be70c4-e880-4f5d-ac37-5104ad2dde44",
              "rows": [
                [
                  "OP_CARRIER_FL_NUM",
                  "6429338.0",
                  "2293.71",
                  "2046.5",
                  "1.0",
                  "20.0",
                  "114.0",
                  "618.0",
                  "1629.0",
                  "3536.0",
                  "6523.0",
                  "7243.0",
                  "7829.0"
                ],
                [
                  "CRS_DEP_TIME",
                  "6429338.0",
                  "1319.45",
                  "457.75",
                  "1.0",
                  "554.0",
                  "625.0",
                  "926.0",
                  "1315.0",
                  "1710.0",
                  "2045.0",
                  "2225.0",
                  "2359.0"
                ],
                [
                  "DEP_TIME",
                  "6346471.0",
                  "1326.03",
                  "468.89",
                  "1.0",
                  "545.0",
                  "624.0",
                  "928.0",
                  "1322.0",
                  "1719.0",
                  "2101.0",
                  "2235.0",
                  "2400.0"
                ],
                [
                  "DEP_DELAY",
                  "6346471.0",
                  "7.6",
                  "31.76",
                  "-96.0",
                  "-12.0",
                  "-9.0",
                  "-5.0",
                  "-2.0",
                  "5.0",
                  "59.0",
                  "147.0",
                  "2445.0"
                ],
                [
                  "TAXI_OUT",
                  "6343551.0",
                  "16.04",
                  "10.56",
                  "1.0",
                  "5.0",
                  "7.0",
                  "10.0",
                  "13.0",
                  "19.0",
                  "34.0",
                  "57.0",
                  "458.0"
                ],
                [
                  "WHEELS_OFF",
                  "6343551.0",
                  "1350.8",
                  "470.05",
                  "1.0",
                  "554.0",
                  "637.0",
                  "944.0",
                  "1336.0",
                  "1734.0",
                  "2116.0",
                  "2249.0",
                  "2400.0"
                ],
                [
                  "WHEELS_ON",
                  "6340016.0",
                  "1478.51",
                  "487.85",
                  "1.0",
                  "120.0",
                  "734.0",
                  "1107.0",
                  "1510.0",
                  "1857.0",
                  "2228.0",
                  "2335.0",
                  "2400.0"
                ],
                [
                  "TAXI_IN",
                  "6340017.0",
                  "6.89",
                  "4.91",
                  "0.0",
                  "2.0",
                  "3.0",
                  "4.0",
                  "6.0",
                  "8.0",
                  "15.0",
                  "26.0",
                  "197.0"
                ],
                [
                  "CRS_ARR_TIME",
                  "6429338.0",
                  "1496.72",
                  "473.32",
                  "1.0",
                  "543.0",
                  "752.0",
                  "1119.0",
                  "1519.0",
                  "1903.0",
                  "2230.0",
                  "2339.0",
                  "2400.0"
                ],
                [
                  "ARR_TIME",
                  "6340016.0",
                  "1485.66",
                  "490.41",
                  "1.0",
                  "57.0",
                  "738.0",
                  "1112.0",
                  "1515.0",
                  "1903.0",
                  "2232.0",
                  "2337.0",
                  "2400.0"
                ],
                [
                  "ARR_DELAY",
                  "6326977.0",
                  "4.29",
                  "34.74",
                  "-107.0",
                  "-34.0",
                  "-23.0",
                  "-12.0",
                  "-4.0",
                  "8.0",
                  "62.0",
                  "150.0",
                  "2449.0"
                ],
                [
                  "CANCELLED",
                  "6429338.0",
                  "0.01",
                  "0.12",
                  "0.0",
                  "0.0",
                  "0.0",
                  "0.0",
                  "0.0",
                  "0.0",
                  "0.0",
                  "1.0",
                  "1.0"
                ],
                [
                  "DIVERTED",
                  "6429338.0",
                  "0.0",
                  "0.05",
                  "0.0",
                  "0.0",
                  "0.0",
                  "0.0",
                  "0.0",
                  "0.0",
                  "0.0",
                  "0.0",
                  "1.0"
                ],
                [
                  "CRS_ELAPSED_TIME",
                  "6429338.0",
                  "129.34",
                  "69.66",
                  "1.0",
                  "40.0",
                  "54.0",
                  "80.0",
                  "111.0",
                  "159.0",
                  "277.0",
                  "360.0",
                  "660.0"
                ],
                [
                  "ACTUAL_ELAPSED_TIME",
                  "6326976.0",
                  "126.24",
                  "69.51",
                  "14.0",
                  "37.0",
                  "50.0",
                  "76.0",
                  "109.0",
                  "155.0",
                  "274.0",
                  "356.0",
                  "799.0"
                ],
                [
                  "AIR_TIME",
                  "6326977.0",
                  "103.33",
                  "67.07",
                  "0.0",
                  "21.0",
                  "32.0",
                  "55.0",
                  "85.0",
                  "131.0",
                  "247.0",
                  "326.0",
                  "699.0"
                ],
                [
                  "DISTANCE",
                  "6429338.0",
                  "724.97",
                  "561.02",
                  "11.0",
                  "89.0",
                  "150.0",
                  "325.0",
                  "581.0",
                  "948.0",
                  "1946.0",
                  "2565.0",
                  "4962.0"
                ],
                [
                  "CARRIER_DELAY",
                  "1170501.0",
                  "15.47",
                  "39.99",
                  "0.0",
                  "0.0",
                  "0.0",
                  "0.0",
                  "0.0",
                  "16.0",
                  "75.0",
                  "176.0",
                  "2439.0"
                ],
                [
                  "WEATHER_DELAY",
                  "1170501.0",
                  "2.76",
                  "17.91",
                  "0.0",
                  "0.0",
                  "0.0",
                  "0.0",
                  "0.0",
                  "0.0",
                  "9.0",
                  "78.0",
                  "1114.0"
                ],
                [
                  "NAS_DELAY",
                  "1170501.0",
                  "16.44",
                  "29.8",
                  "0.0",
                  "0.0",
                  "0.0",
                  "0.0",
                  "5.0",
                  "21.0",
                  "67.0",
                  "146.0",
                  "1305.0"
                ],
                [
                  "SECURITY_DELAY",
                  "1170501.0",
                  "0.06",
                  "1.75",
                  "0.0",
                  "0.0",
                  "0.0",
                  "0.0",
                  "0.0",
                  "0.0",
                  "0.0",
                  "0.0",
                  "345.0"
                ],
                [
                  "LATE_AIRCRAFT_DELAY",
                  "1170501.0",
                  "19.54",
                  "37.06",
                  "0.0",
                  "0.0",
                  "0.0",
                  "0.0",
                  "0.0",
                  "25.0",
                  "92.0",
                  "174.0",
                  "1391.0"
                ],
                [
                  "IS_DELAYED_15",
                  "6429338.0",
                  "0.18",
                  "0.39",
                  "0.0",
                  "0.0",
                  "0.0",
                  "0.0",
                  "0.0",
                  "0.0",
                  "1.0",
                  "1.0",
                  "1.0"
                ]
              ],
              "shape": {
                "columns": 12,
                "rows": 23
              }
            },
            "text/html": [
              "<div>\n",
              "<style scoped>\n",
              "    .dataframe tbody tr th:only-of-type {\n",
              "        vertical-align: middle;\n",
              "    }\n",
              "\n",
              "    .dataframe tbody tr th {\n",
              "        vertical-align: top;\n",
              "    }\n",
              "\n",
              "    .dataframe thead th {\n",
              "        text-align: right;\n",
              "    }\n",
              "</style>\n",
              "<table border=\"1\" class=\"dataframe\">\n",
              "  <thead>\n",
              "    <tr style=\"text-align: right;\">\n",
              "      <th></th>\n",
              "      <th>count</th>\n",
              "      <th>mean</th>\n",
              "      <th>std</th>\n",
              "      <th>min</th>\n",
              "      <th>1%</th>\n",
              "      <th>5%</th>\n",
              "      <th>25%</th>\n",
              "      <th>50%</th>\n",
              "      <th>75%</th>\n",
              "      <th>95%</th>\n",
              "      <th>99%</th>\n",
              "      <th>max</th>\n",
              "    </tr>\n",
              "  </thead>\n",
              "  <tbody>\n",
              "    <tr>\n",
              "      <th>OP_CARRIER_FL_NUM</th>\n",
              "      <td>6429338.0</td>\n",
              "      <td>2293.71</td>\n",
              "      <td>2046.50</td>\n",
              "      <td>1.0</td>\n",
              "      <td>20.0</td>\n",
              "      <td>114.0</td>\n",
              "      <td>618.0</td>\n",
              "      <td>1629.0</td>\n",
              "      <td>3536.0</td>\n",
              "      <td>6523.0</td>\n",
              "      <td>7243.0</td>\n",
              "      <td>7829.0</td>\n",
              "    </tr>\n",
              "    <tr>\n",
              "      <th>CRS_DEP_TIME</th>\n",
              "      <td>6429338.0</td>\n",
              "      <td>1319.45</td>\n",
              "      <td>457.75</td>\n",
              "      <td>1.0</td>\n",
              "      <td>554.0</td>\n",
              "      <td>625.0</td>\n",
              "      <td>926.0</td>\n",
              "      <td>1315.0</td>\n",
              "      <td>1710.0</td>\n",
              "      <td>2045.0</td>\n",
              "      <td>2225.0</td>\n",
              "      <td>2359.0</td>\n",
              "    </tr>\n",
              "    <tr>\n",
              "      <th>DEP_TIME</th>\n",
              "      <td>6346471.0</td>\n",
              "      <td>1326.03</td>\n",
              "      <td>468.89</td>\n",
              "      <td>1.0</td>\n",
              "      <td>545.0</td>\n",
              "      <td>624.0</td>\n",
              "      <td>928.0</td>\n",
              "      <td>1322.0</td>\n",
              "      <td>1719.0</td>\n",
              "      <td>2101.0</td>\n",
              "      <td>2235.0</td>\n",
              "      <td>2400.0</td>\n",
              "    </tr>\n",
              "    <tr>\n",
              "      <th>DEP_DELAY</th>\n",
              "      <td>6346471.0</td>\n",
              "      <td>7.60</td>\n",
              "      <td>31.76</td>\n",
              "      <td>-96.0</td>\n",
              "      <td>-12.0</td>\n",
              "      <td>-9.0</td>\n",
              "      <td>-5.0</td>\n",
              "      <td>-2.0</td>\n",
              "      <td>5.0</td>\n",
              "      <td>59.0</td>\n",
              "      <td>147.0</td>\n",
              "      <td>2445.0</td>\n",
              "    </tr>\n",
              "    <tr>\n",
              "      <th>TAXI_OUT</th>\n",
              "      <td>6343551.0</td>\n",
              "      <td>16.04</td>\n",
              "      <td>10.56</td>\n",
              "      <td>1.0</td>\n",
              "      <td>5.0</td>\n",
              "      <td>7.0</td>\n",
              "      <td>10.0</td>\n",
              "      <td>13.0</td>\n",
              "      <td>19.0</td>\n",
              "      <td>34.0</td>\n",
              "      <td>57.0</td>\n",
              "      <td>458.0</td>\n",
              "    </tr>\n",
              "    <tr>\n",
              "      <th>WHEELS_OFF</th>\n",
              "      <td>6343551.0</td>\n",
              "      <td>1350.80</td>\n",
              "      <td>470.05</td>\n",
              "      <td>1.0</td>\n",
              "      <td>554.0</td>\n",
              "      <td>637.0</td>\n",
              "      <td>944.0</td>\n",
              "      <td>1336.0</td>\n",
              "      <td>1734.0</td>\n",
              "      <td>2116.0</td>\n",
              "      <td>2249.0</td>\n",
              "      <td>2400.0</td>\n",
              "    </tr>\n",
              "    <tr>\n",
              "      <th>WHEELS_ON</th>\n",
              "      <td>6340016.0</td>\n",
              "      <td>1478.51</td>\n",
              "      <td>487.85</td>\n",
              "      <td>1.0</td>\n",
              "      <td>120.0</td>\n",
              "      <td>734.0</td>\n",
              "      <td>1107.0</td>\n",
              "      <td>1510.0</td>\n",
              "      <td>1857.0</td>\n",
              "      <td>2228.0</td>\n",
              "      <td>2335.0</td>\n",
              "      <td>2400.0</td>\n",
              "    </tr>\n",
              "    <tr>\n",
              "      <th>TAXI_IN</th>\n",
              "      <td>6340017.0</td>\n",
              "      <td>6.89</td>\n",
              "      <td>4.91</td>\n",
              "      <td>0.0</td>\n",
              "      <td>2.0</td>\n",
              "      <td>3.0</td>\n",
              "      <td>4.0</td>\n",
              "      <td>6.0</td>\n",
              "      <td>8.0</td>\n",
              "      <td>15.0</td>\n",
              "      <td>26.0</td>\n",
              "      <td>197.0</td>\n",
              "    </tr>\n",
              "    <tr>\n",
              "      <th>CRS_ARR_TIME</th>\n",
              "      <td>6429338.0</td>\n",
              "      <td>1496.72</td>\n",
              "      <td>473.32</td>\n",
              "      <td>1.0</td>\n",
              "      <td>543.0</td>\n",
              "      <td>752.0</td>\n",
              "      <td>1119.0</td>\n",
              "      <td>1519.0</td>\n",
              "      <td>1903.0</td>\n",
              "      <td>2230.0</td>\n",
              "      <td>2339.0</td>\n",
              "      <td>2400.0</td>\n",
              "    </tr>\n",
              "    <tr>\n",
              "      <th>ARR_TIME</th>\n",
              "      <td>6340016.0</td>\n",
              "      <td>1485.66</td>\n",
              "      <td>490.41</td>\n",
              "      <td>1.0</td>\n",
              "      <td>57.0</td>\n",
              "      <td>738.0</td>\n",
              "      <td>1112.0</td>\n",
              "      <td>1515.0</td>\n",
              "      <td>1903.0</td>\n",
              "      <td>2232.0</td>\n",
              "      <td>2337.0</td>\n",
              "      <td>2400.0</td>\n",
              "    </tr>\n",
              "    <tr>\n",
              "      <th>ARR_DELAY</th>\n",
              "      <td>6326977.0</td>\n",
              "      <td>4.29</td>\n",
              "      <td>34.74</td>\n",
              "      <td>-107.0</td>\n",
              "      <td>-34.0</td>\n",
              "      <td>-23.0</td>\n",
              "      <td>-12.0</td>\n",
              "      <td>-4.0</td>\n",
              "      <td>8.0</td>\n",
              "      <td>62.0</td>\n",
              "      <td>150.0</td>\n",
              "      <td>2449.0</td>\n",
              "    </tr>\n",
              "    <tr>\n",
              "      <th>CANCELLED</th>\n",
              "      <td>6429338.0</td>\n",
              "      <td>0.01</td>\n",
              "      <td>0.12</td>\n",
              "      <td>0.0</td>\n",
              "      <td>0.0</td>\n",
              "      <td>0.0</td>\n",
              "      <td>0.0</td>\n",
              "      <td>0.0</td>\n",
              "      <td>0.0</td>\n",
              "      <td>0.0</td>\n",
              "      <td>1.0</td>\n",
              "      <td>1.0</td>\n",
              "    </tr>\n",
              "    <tr>\n",
              "      <th>DIVERTED</th>\n",
              "      <td>6429338.0</td>\n",
              "      <td>0.00</td>\n",
              "      <td>0.05</td>\n",
              "      <td>0.0</td>\n",
              "      <td>0.0</td>\n",
              "      <td>0.0</td>\n",
              "      <td>0.0</td>\n",
              "      <td>0.0</td>\n",
              "      <td>0.0</td>\n",
              "      <td>0.0</td>\n",
              "      <td>0.0</td>\n",
              "      <td>1.0</td>\n",
              "    </tr>\n",
              "    <tr>\n",
              "      <th>CRS_ELAPSED_TIME</th>\n",
              "      <td>6429338.0</td>\n",
              "      <td>129.34</td>\n",
              "      <td>69.66</td>\n",
              "      <td>1.0</td>\n",
              "      <td>40.0</td>\n",
              "      <td>54.0</td>\n",
              "      <td>80.0</td>\n",
              "      <td>111.0</td>\n",
              "      <td>159.0</td>\n",
              "      <td>277.0</td>\n",
              "      <td>360.0</td>\n",
              "      <td>660.0</td>\n",
              "    </tr>\n",
              "    <tr>\n",
              "      <th>ACTUAL_ELAPSED_TIME</th>\n",
              "      <td>6326976.0</td>\n",
              "      <td>126.24</td>\n",
              "      <td>69.51</td>\n",
              "      <td>14.0</td>\n",
              "      <td>37.0</td>\n",
              "      <td>50.0</td>\n",
              "      <td>76.0</td>\n",
              "      <td>109.0</td>\n",
              "      <td>155.0</td>\n",
              "      <td>274.0</td>\n",
              "      <td>356.0</td>\n",
              "      <td>799.0</td>\n",
              "    </tr>\n",
              "    <tr>\n",
              "      <th>AIR_TIME</th>\n",
              "      <td>6326977.0</td>\n",
              "      <td>103.33</td>\n",
              "      <td>67.07</td>\n",
              "      <td>0.0</td>\n",
              "      <td>21.0</td>\n",
              "      <td>32.0</td>\n",
              "      <td>55.0</td>\n",
              "      <td>85.0</td>\n",
              "      <td>131.0</td>\n",
              "      <td>247.0</td>\n",
              "      <td>326.0</td>\n",
              "      <td>699.0</td>\n",
              "    </tr>\n",
              "    <tr>\n",
              "      <th>DISTANCE</th>\n",
              "      <td>6429338.0</td>\n",
              "      <td>724.97</td>\n",
              "      <td>561.02</td>\n",
              "      <td>11.0</td>\n",
              "      <td>89.0</td>\n",
              "      <td>150.0</td>\n",
              "      <td>325.0</td>\n",
              "      <td>581.0</td>\n",
              "      <td>948.0</td>\n",
              "      <td>1946.0</td>\n",
              "      <td>2565.0</td>\n",
              "      <td>4962.0</td>\n",
              "    </tr>\n",
              "    <tr>\n",
              "      <th>CARRIER_DELAY</th>\n",
              "      <td>1170501.0</td>\n",
              "      <td>15.47</td>\n",
              "      <td>39.99</td>\n",
              "      <td>0.0</td>\n",
              "      <td>0.0</td>\n",
              "      <td>0.0</td>\n",
              "      <td>0.0</td>\n",
              "      <td>0.0</td>\n",
              "      <td>16.0</td>\n",
              "      <td>75.0</td>\n",
              "      <td>176.0</td>\n",
              "      <td>2439.0</td>\n",
              "    </tr>\n",
              "    <tr>\n",
              "      <th>WEATHER_DELAY</th>\n",
              "      <td>1170501.0</td>\n",
              "      <td>2.76</td>\n",
              "      <td>17.91</td>\n",
              "      <td>0.0</td>\n",
              "      <td>0.0</td>\n",
              "      <td>0.0</td>\n",
              "      <td>0.0</td>\n",
              "      <td>0.0</td>\n",
              "      <td>0.0</td>\n",
              "      <td>9.0</td>\n",
              "      <td>78.0</td>\n",
              "      <td>1114.0</td>\n",
              "    </tr>\n",
              "    <tr>\n",
              "      <th>NAS_DELAY</th>\n",
              "      <td>1170501.0</td>\n",
              "      <td>16.44</td>\n",
              "      <td>29.80</td>\n",
              "      <td>0.0</td>\n",
              "      <td>0.0</td>\n",
              "      <td>0.0</td>\n",
              "      <td>0.0</td>\n",
              "      <td>5.0</td>\n",
              "      <td>21.0</td>\n",
              "      <td>67.0</td>\n",
              "      <td>146.0</td>\n",
              "      <td>1305.0</td>\n",
              "    </tr>\n",
              "    <tr>\n",
              "      <th>SECURITY_DELAY</th>\n",
              "      <td>1170501.0</td>\n",
              "      <td>0.06</td>\n",
              "      <td>1.75</td>\n",
              "      <td>0.0</td>\n",
              "      <td>0.0</td>\n",
              "      <td>0.0</td>\n",
              "      <td>0.0</td>\n",
              "      <td>0.0</td>\n",
              "      <td>0.0</td>\n",
              "      <td>0.0</td>\n",
              "      <td>0.0</td>\n",
              "      <td>345.0</td>\n",
              "    </tr>\n",
              "    <tr>\n",
              "      <th>LATE_AIRCRAFT_DELAY</th>\n",
              "      <td>1170501.0</td>\n",
              "      <td>19.54</td>\n",
              "      <td>37.06</td>\n",
              "      <td>0.0</td>\n",
              "      <td>0.0</td>\n",
              "      <td>0.0</td>\n",
              "      <td>0.0</td>\n",
              "      <td>0.0</td>\n",
              "      <td>25.0</td>\n",
              "      <td>92.0</td>\n",
              "      <td>174.0</td>\n",
              "      <td>1391.0</td>\n",
              "    </tr>\n",
              "    <tr>\n",
              "      <th>IS_DELAYED_15</th>\n",
              "      <td>6429338.0</td>\n",
              "      <td>0.18</td>\n",
              "      <td>0.39</td>\n",
              "      <td>0.0</td>\n",
              "      <td>0.0</td>\n",
              "      <td>0.0</td>\n",
              "      <td>0.0</td>\n",
              "      <td>0.0</td>\n",
              "      <td>0.0</td>\n",
              "      <td>1.0</td>\n",
              "      <td>1.0</td>\n",
              "      <td>1.0</td>\n",
              "    </tr>\n",
              "  </tbody>\n",
              "</table>\n",
              "</div>"
            ],
            "text/plain": [
              "                         count     mean      std    min     1%     5%     25%  \\\n",
              "OP_CARRIER_FL_NUM    6429338.0  2293.71  2046.50    1.0   20.0  114.0   618.0   \n",
              "CRS_DEP_TIME         6429338.0  1319.45   457.75    1.0  554.0  625.0   926.0   \n",
              "DEP_TIME             6346471.0  1326.03   468.89    1.0  545.0  624.0   928.0   \n",
              "DEP_DELAY            6346471.0     7.60    31.76  -96.0  -12.0   -9.0    -5.0   \n",
              "TAXI_OUT             6343551.0    16.04    10.56    1.0    5.0    7.0    10.0   \n",
              "WHEELS_OFF           6343551.0  1350.80   470.05    1.0  554.0  637.0   944.0   \n",
              "WHEELS_ON            6340016.0  1478.51   487.85    1.0  120.0  734.0  1107.0   \n",
              "TAXI_IN              6340017.0     6.89     4.91    0.0    2.0    3.0     4.0   \n",
              "CRS_ARR_TIME         6429338.0  1496.72   473.32    1.0  543.0  752.0  1119.0   \n",
              "ARR_TIME             6340016.0  1485.66   490.41    1.0   57.0  738.0  1112.0   \n",
              "ARR_DELAY            6326977.0     4.29    34.74 -107.0  -34.0  -23.0   -12.0   \n",
              "CANCELLED            6429338.0     0.01     0.12    0.0    0.0    0.0     0.0   \n",
              "DIVERTED             6429338.0     0.00     0.05    0.0    0.0    0.0     0.0   \n",
              "CRS_ELAPSED_TIME     6429338.0   129.34    69.66    1.0   40.0   54.0    80.0   \n",
              "ACTUAL_ELAPSED_TIME  6326976.0   126.24    69.51   14.0   37.0   50.0    76.0   \n",
              "AIR_TIME             6326977.0   103.33    67.07    0.0   21.0   32.0    55.0   \n",
              "DISTANCE             6429338.0   724.97   561.02   11.0   89.0  150.0   325.0   \n",
              "CARRIER_DELAY        1170501.0    15.47    39.99    0.0    0.0    0.0     0.0   \n",
              "WEATHER_DELAY        1170501.0     2.76    17.91    0.0    0.0    0.0     0.0   \n",
              "NAS_DELAY            1170501.0    16.44    29.80    0.0    0.0    0.0     0.0   \n",
              "SECURITY_DELAY       1170501.0     0.06     1.75    0.0    0.0    0.0     0.0   \n",
              "LATE_AIRCRAFT_DELAY  1170501.0    19.54    37.06    0.0    0.0    0.0     0.0   \n",
              "IS_DELAYED_15        6429338.0     0.18     0.39    0.0    0.0    0.0     0.0   \n",
              "\n",
              "                        50%     75%     95%     99%     max  \n",
              "OP_CARRIER_FL_NUM    1629.0  3536.0  6523.0  7243.0  7829.0  \n",
              "CRS_DEP_TIME         1315.0  1710.0  2045.0  2225.0  2359.0  \n",
              "DEP_TIME             1322.0  1719.0  2101.0  2235.0  2400.0  \n",
              "DEP_DELAY              -2.0     5.0    59.0   147.0  2445.0  \n",
              "TAXI_OUT               13.0    19.0    34.0    57.0   458.0  \n",
              "WHEELS_OFF           1336.0  1734.0  2116.0  2249.0  2400.0  \n",
              "WHEELS_ON            1510.0  1857.0  2228.0  2335.0  2400.0  \n",
              "TAXI_IN                 6.0     8.0    15.0    26.0   197.0  \n",
              "CRS_ARR_TIME         1519.0  1903.0  2230.0  2339.0  2400.0  \n",
              "ARR_TIME             1515.0  1903.0  2232.0  2337.0  2400.0  \n",
              "ARR_DELAY              -4.0     8.0    62.0   150.0  2449.0  \n",
              "CANCELLED               0.0     0.0     0.0     1.0     1.0  \n",
              "DIVERTED                0.0     0.0     0.0     0.0     1.0  \n",
              "CRS_ELAPSED_TIME      111.0   159.0   277.0   360.0   660.0  \n",
              "ACTUAL_ELAPSED_TIME   109.0   155.0   274.0   356.0   799.0  \n",
              "AIR_TIME               85.0   131.0   247.0   326.0   699.0  \n",
              "DISTANCE              581.0   948.0  1946.0  2565.0  4962.0  \n",
              "CARRIER_DELAY           0.0    16.0    75.0   176.0  2439.0  \n",
              "WEATHER_DELAY           0.0     0.0     9.0    78.0  1114.0  \n",
              "NAS_DELAY               5.0    21.0    67.0   146.0  1305.0  \n",
              "SECURITY_DELAY          0.0     0.0     0.0     0.0   345.0  \n",
              "LATE_AIRCRAFT_DELAY     0.0    25.0    92.0   174.0  1391.0  \n",
              "IS_DELAYED_15           0.0     0.0     1.0     1.0     1.0  "
            ]
          },
          "metadata": {},
          "output_type": "display_data"
        },
        {
          "name": "stdout",
          "output_type": "stream",
          "text": [
            "\n",
            "Top values for OP_CARRIER:\n"
          ]
        },
        {
          "data": {
            "application/vnd.microsoft.datawrangler.viewer.v0+json": {
              "columns": [
                {
                  "name": "OP_CARRIER",
                  "rawType": "object",
                  "type": "string"
                },
                {
                  "name": "count",
                  "rawType": "int64",
                  "type": "integer"
                }
              ],
              "ref": "bc50bd9f-e6c6-42bc-acc0-1653f4ba9f09",
              "rows": [
                [
                  "WN",
                  "1128947"
                ],
                [
                  "AA",
                  "550056"
                ],
                [
                  "OO",
                  "546195"
                ],
                [
                  "MQ",
                  "435670"
                ],
                [
                  "DL",
                  "426036"
                ],
                [
                  "US",
                  "412008"
                ],
                [
                  "UA",
                  "376272"
                ],
                [
                  "XE",
                  "309360"
                ],
                [
                  "EV",
                  "298696"
                ],
                [
                  "NW",
                  "292400"
                ]
              ],
              "shape": {
                "columns": 1,
                "rows": 10
              }
            },
            "text/plain": [
              "OP_CARRIER\n",
              "WN    1128947\n",
              "AA     550056\n",
              "OO     546195\n",
              "MQ     435670\n",
              "DL     426036\n",
              "US     412008\n",
              "UA     376272\n",
              "XE     309360\n",
              "EV     298696\n",
              "NW     292400\n",
              "Name: count, dtype: int64"
            ]
          },
          "metadata": {},
          "output_type": "display_data"
        },
        {
          "name": "stdout",
          "output_type": "stream",
          "text": [
            "\n",
            "Top values for ORIGIN:\n"
          ]
        },
        {
          "data": {
            "application/vnd.microsoft.datawrangler.viewer.v0+json": {
              "columns": [
                {
                  "name": "ORIGIN",
                  "rawType": "object",
                  "type": "string"
                },
                {
                  "name": "count",
                  "rawType": "int64",
                  "type": "integer"
                }
              ],
              "ref": "20a8d3b4-ca46-475c-a6af-a7a4f8eeb7c9",
              "rows": [
                [
                  "ATL",
                  "417449"
                ],
                [
                  "ORD",
                  "313848"
                ],
                [
                  "DFW",
                  "264396"
                ],
                [
                  "DEN",
                  "235675"
                ],
                [
                  "LAX",
                  "192879"
                ],
                [
                  "PHX",
                  "183502"
                ],
                [
                  "IAH",
                  "182097"
                ],
                [
                  "LAS",
                  "153993"
                ],
                [
                  "DTW",
                  "152081"
                ],
                [
                  "SFO",
                  "136488"
                ]
              ],
              "shape": {
                "columns": 1,
                "rows": 10
              }
            },
            "text/plain": [
              "ORIGIN\n",
              "ATL    417449\n",
              "ORD    313848\n",
              "DFW    264396\n",
              "DEN    235675\n",
              "LAX    192879\n",
              "PHX    183502\n",
              "IAH    182097\n",
              "LAS    153993\n",
              "DTW    152081\n",
              "SFO    136488\n",
              "Name: count, dtype: int64"
            ]
          },
          "metadata": {},
          "output_type": "display_data"
        },
        {
          "name": "stdout",
          "output_type": "stream",
          "text": [
            "\n",
            "Top values for DEST:\n"
          ]
        },
        {
          "data": {
            "application/vnd.microsoft.datawrangler.viewer.v0+json": {
              "columns": [
                {
                  "name": "DEST",
                  "rawType": "object",
                  "type": "string"
                },
                {
                  "name": "count",
                  "rawType": "int64",
                  "type": "integer"
                }
              ],
              "ref": "4d52eaca-8cb2-41bb-94d1-f5fca27991e8",
              "rows": [
                [
                  "ATL",
                  "417457"
                ],
                [
                  "ORD",
                  "313769"
                ],
                [
                  "DFW",
                  "264398"
                ],
                [
                  "DEN",
                  "235700"
                ],
                [
                  "LAX",
                  "192916"
                ],
                [
                  "PHX",
                  "183491"
                ],
                [
                  "IAH",
                  "182088"
                ],
                [
                  "LAS",
                  "153984"
                ],
                [
                  "DTW",
                  "152075"
                ],
                [
                  "SFO",
                  "136532"
                ]
              ],
              "shape": {
                "columns": 1,
                "rows": 10
              }
            },
            "text/plain": [
              "DEST\n",
              "ATL    417457\n",
              "ORD    313769\n",
              "DFW    264398\n",
              "DEN    235700\n",
              "LAX    192916\n",
              "PHX    183491\n",
              "IAH    182088\n",
              "LAS    153984\n",
              "DTW    152075\n",
              "SFO    136532\n",
              "Name: count, dtype: int64"
            ]
          },
          "metadata": {},
          "output_type": "display_data"
        },
        {
          "name": "stdout",
          "output_type": "stream",
          "text": [
            "\n",
            "Top values for CANCELLATION_CODE:\n"
          ]
        },
        {
          "data": {
            "application/vnd.microsoft.datawrangler.viewer.v0+json": {
              "columns": [
                {
                  "name": "CANCELLATION_CODE",
                  "rawType": "object",
                  "type": "unknown"
                },
                {
                  "name": "count",
                  "rawType": "int64",
                  "type": "integer"
                }
              ],
              "ref": "358a2b44-4864-4ae5-beed-63f01de3eb6a",
              "rows": [
                [
                  null,
                  "6342300"
                ],
                [
                  "B",
                  "36651"
                ],
                [
                  "A",
                  "35568"
                ],
                [
                  "C",
                  "14799"
                ],
                [
                  "D",
                  "20"
                ]
              ],
              "shape": {
                "columns": 1,
                "rows": 5
              }
            },
            "text/plain": [
              "CANCELLATION_CODE\n",
              "NaN    6342300\n",
              "B        36651\n",
              "A        35568\n",
              "C        14799\n",
              "D           20\n",
              "Name: count, dtype: int64"
            ]
          },
          "metadata": {},
          "output_type": "display_data"
        },
        {
          "name": "stdout",
          "output_type": "stream",
          "text": [
            "\n",
            "Top values for CANCELLATION_REASON:\n"
          ]
        },
        {
          "data": {
            "application/vnd.microsoft.datawrangler.viewer.v0+json": {
              "columns": [
                {
                  "name": "CANCELLATION_REASON",
                  "rawType": "object",
                  "type": "unknown"
                },
                {
                  "name": "count",
                  "rawType": "int64",
                  "type": "integer"
                }
              ],
              "ref": "33edb4ca-1dd6-458a-8a1f-6060a5ff0733",
              "rows": [
                [
                  null,
                  "6342300"
                ],
                [
                  "Weather",
                  "36651"
                ],
                [
                  "Carrier",
                  "35568"
                ],
                [
                  "NAS",
                  "14799"
                ],
                [
                  "Security",
                  "20"
                ]
              ],
              "shape": {
                "columns": 1,
                "rows": 5
              }
            },
            "text/plain": [
              "CANCELLATION_REASON\n",
              "NaN         6342300\n",
              "Weather       36651\n",
              "Carrier       35568\n",
              "NAS           14799\n",
              "Security         20\n",
              "Name: count, dtype: int64"
            ]
          },
          "metadata": {},
          "output_type": "display_data"
        }
      ],
      "source": [
        "\n",
        "# 6) Quick missingness & sanity EDA\n",
        "\n",
        "def missingness_table(frame: pd.DataFrame, min_pct=0.0):\n",
        "    miss = frame.isna().mean().sort_values(ascending=False).to_frame(\"missing_pct\")\n",
        "    miss[\"n_missing\"] = (frame.shape[0] * miss[\"missing_pct\"]).round().astype(int)\n",
        "    out = miss[miss[\"missing_pct\"] >= min_pct]\n",
        "    return (out * 100).round(2).rename(columns={\"missing_pct\": \"missing_%\"}).sort_values(\"missing_%\", ascending=False)\n",
        "\n",
        "print(\"\\nMissingness (%):\")\n",
        "display(missingness_table(df, min_pct=0.0).head(20))\n",
        "\n",
        "# Numeric summary\n",
        "num_cols = df.select_dtypes(include=[np.number]).columns.tolist()\n",
        "print(\"\\nNumeric describe (selected):\")\n",
        "display(df[num_cols].describe(percentiles=[.01,.05,.25,.5,.75,.95,.99]).T.round(2).head(25))\n",
        "\n",
        "# Categorical peek\n",
        "cat_cols = df.select_dtypes(include=[\"object\"]).columns.tolist()\n",
        "for c in cat_cols:\n",
        "    print(f\"\\nTop values for {c}:\")\n",
        "    display(df[c].value_counts(dropna=False).head(10))\n",
        "\n"
      ]
    },
    {
      "cell_type": "code",
      "execution_count": 24,
      "metadata": {},
      "outputs": [
        {
          "name": "stdout",
          "output_type": "stream",
          "text": [
            "\n",
            "Delay sanity snapshot:\n",
            "        DEP_DELAY   ARR_DELAY\n",
            "count  6346471.00  6326977.00\n",
            "mean         7.60        4.29\n",
            "std         31.76       34.74\n",
            "min        -96.00     -107.00\n",
            "25%         -5.00      -12.00\n",
            "50%         -2.00       -4.00\n",
            "75%          5.00        8.00\n",
            "max       2445.00     2449.00\n"
          ]
        }
      ],
      "source": [
        "# 7) Relationship checks (sanity, not strict asserts)\n",
        "\n",
        "# Delays can be negative (early). This is just informative.\n",
        "if {\"DEP_DELAY\", \"ARR_DELAY\"}.issubset(df.columns):\n",
        "    print(\"\\nDelay sanity snapshot:\")\n",
        "    print(df[[\"DEP_DELAY\", \"ARR_DELAY\"]].describe().round(2))\n",
        "\n",
        "# Optional: do delay causes roughly sum to ARR_DELAY (when delayed)?\n",
        "# if {\"ARR_DELAY\", \"CARRIER_DELAY\",\"WEATHER_DELAY\",\"NAS_DELAY\",\"SECURITY_DELAY\",\"LATE_AIRCRAFT_DELAY\"}.issubset(df.columns):\n",
        "#     causes = [\"CARRIER_DELAY\",\"WEATHER_DELAY\",\"NAS_DELAY\",\"SECURITY_DELAY\",\"LATE_AIRCRAFT_DELAY\"]\n",
        "#     tmp = df[[\"ARR_DELAY\"] + causes].copy()\n",
        "#     tmp[\"CAUSE_SUM\"] = tmp[causes].fillna(0).sum(axis=1)\n",
        "#     # Only look at delayed flights\n",
        "#     mask = tmp[\"ARR_DELAY\"] >= 15\n",
        "#     if mask.any():\n",
        "#         ratio = (tmp.loc[mask, \"CAUSE_SUM\"].sum() / tmp.loc[mask, \"ARR_DELAY\"].sum())\n",
        "#         print(f\"\\nCause minutes / total ARR_DELAY minutes (≥15 min delays): {ratio:.2f}\")\n",
        "\n",
        "\n"
      ]
    },
    {
      "cell_type": "code",
      "execution_count": 25,
      "metadata": {},
      "outputs": [],
      "source": [
        "# 8) Grouped KPIs (business-friendly slices)\n",
        "\n",
        "def rate_table(frame, group_col, target_col=\"IS_DELAYED_15\", top_n=15, min_count=100):\n",
        "    g = (\n",
        "        frame.groupby(group_col, dropna=False)\n",
        "             .agg(n=(\"FL_DATE\",\"count\") if \"FL_DATE\" in frame.columns else (\"ARR_DELAY\",\"size\"),\n",
        "                  delayed=(target_col, \"mean\") if target_col in frame.columns else (\"ARR_DELAY\", lambda s: (s >= 15).mean()),\n",
        "                  cancel=(\"CANCELLED\", \"mean\") if \"CANCELLED\" in frame.columns else (\"ARR_DELAY\", lambda s: np.nan))\n",
        "             .reset_index()\n",
        "    )\n",
        "    g = g[g[\"n\"] >= min_count].sort_values(\"delayed\", ascending=False)\n",
        "    g[\"delayed\"] = (100*g[\"delayed\"]).round(1)\n",
        "    if \"cancel\" in g:\n",
        "        g[\"cancel\"] = (100*g[\"cancel\"]).round(1)\n",
        "    return g.head(top_n)\n",
        "\n"
      ]
    },
    {
      "cell_type": "code",
      "execution_count": 26,
      "metadata": {},
      "outputs": [
        {
          "name": "stdout",
          "output_type": "stream",
          "text": [
            "\n",
            "Delay/Cancel rates by OP_CARRIER (min 100 rows):\n"
          ]
        },
        {
          "data": {
            "application/vnd.microsoft.datawrangler.viewer.v0+json": {
              "columns": [
                {
                  "name": "index",
                  "rawType": "int64",
                  "type": "integer"
                },
                {
                  "name": "OP_CARRIER",
                  "rawType": "object",
                  "type": "string"
                },
                {
                  "name": "n",
                  "rawType": "int64",
                  "type": "integer"
                },
                {
                  "name": "delayed",
                  "rawType": "float64",
                  "type": "float"
                },
                {
                  "name": "cancel",
                  "rawType": "float64",
                  "type": "float"
                }
              ],
              "ref": "007c0e89-f70e-43ef-a5e4-0effa04f8663",
              "rows": [
                [
                  "12",
                  "OH",
                  "150970",
                  "26.8",
                  "3.4"
                ],
                [
                  "6",
                  "EV",
                  "298696",
                  "26.3",
                  "2.1"
                ],
                [
                  "8",
                  "FL",
                  "249954",
                  "22.6",
                  "0.8"
                ],
                [
                  "3",
                  "B6",
                  "194109",
                  "20.5",
                  "1.3"
                ],
                [
                  "1",
                  "AA",
                  "550056",
                  "20.0",
                  "1.7"
                ],
                [
                  "5",
                  "DL",
                  "426036",
                  "19.8",
                  "1.1"
                ],
                [
                  "7",
                  "F9",
                  "87002",
                  "19.7",
                  "0.6"
                ],
                [
                  "4",
                  "CO",
                  "256446",
                  "19.4",
                  "0.5"
                ],
                [
                  "10",
                  "MQ",
                  "435670",
                  "19.2",
                  "2.5"
                ],
                [
                  "11",
                  "NW",
                  "292400",
                  "18.9",
                  "0.6"
                ],
                [
                  "17",
                  "XE",
                  "309360",
                  "18.1",
                  "1.7"
                ],
                [
                  "18",
                  "YV",
                  "243060",
                  "18.0",
                  "1.9"
                ],
                [
                  "15",
                  "US",
                  "412008",
                  "17.3",
                  "1.2"
                ],
                [
                  "14",
                  "UA",
                  "376272",
                  "16.7",
                  "1.7"
                ],
                [
                  "2",
                  "AS",
                  "137140",
                  "15.6",
                  "0.9"
                ]
              ],
              "shape": {
                "columns": 4,
                "rows": 15
              }
            },
            "text/html": [
              "<div>\n",
              "<style scoped>\n",
              "    .dataframe tbody tr th:only-of-type {\n",
              "        vertical-align: middle;\n",
              "    }\n",
              "\n",
              "    .dataframe tbody tr th {\n",
              "        vertical-align: top;\n",
              "    }\n",
              "\n",
              "    .dataframe thead th {\n",
              "        text-align: right;\n",
              "    }\n",
              "</style>\n",
              "<table border=\"1\" class=\"dataframe\">\n",
              "  <thead>\n",
              "    <tr style=\"text-align: right;\">\n",
              "      <th></th>\n",
              "      <th>OP_CARRIER</th>\n",
              "      <th>n</th>\n",
              "      <th>delayed</th>\n",
              "      <th>cancel</th>\n",
              "    </tr>\n",
              "  </thead>\n",
              "  <tbody>\n",
              "    <tr>\n",
              "      <th>12</th>\n",
              "      <td>OH</td>\n",
              "      <td>150970</td>\n",
              "      <td>26.8</td>\n",
              "      <td>3.4</td>\n",
              "    </tr>\n",
              "    <tr>\n",
              "      <th>6</th>\n",
              "      <td>EV</td>\n",
              "      <td>298696</td>\n",
              "      <td>26.3</td>\n",
              "      <td>2.1</td>\n",
              "    </tr>\n",
              "    <tr>\n",
              "      <th>8</th>\n",
              "      <td>FL</td>\n",
              "      <td>249954</td>\n",
              "      <td>22.6</td>\n",
              "      <td>0.8</td>\n",
              "    </tr>\n",
              "    <tr>\n",
              "      <th>3</th>\n",
              "      <td>B6</td>\n",
              "      <td>194109</td>\n",
              "      <td>20.5</td>\n",
              "      <td>1.3</td>\n",
              "    </tr>\n",
              "    <tr>\n",
              "      <th>1</th>\n",
              "      <td>AA</td>\n",
              "      <td>550056</td>\n",
              "      <td>20.0</td>\n",
              "      <td>1.7</td>\n",
              "    </tr>\n",
              "    <tr>\n",
              "      <th>5</th>\n",
              "      <td>DL</td>\n",
              "      <td>426036</td>\n",
              "      <td>19.8</td>\n",
              "      <td>1.1</td>\n",
              "    </tr>\n",
              "    <tr>\n",
              "      <th>7</th>\n",
              "      <td>F9</td>\n",
              "      <td>87002</td>\n",
              "      <td>19.7</td>\n",
              "      <td>0.6</td>\n",
              "    </tr>\n",
              "    <tr>\n",
              "      <th>4</th>\n",
              "      <td>CO</td>\n",
              "      <td>256446</td>\n",
              "      <td>19.4</td>\n",
              "      <td>0.5</td>\n",
              "    </tr>\n",
              "    <tr>\n",
              "      <th>10</th>\n",
              "      <td>MQ</td>\n",
              "      <td>435670</td>\n",
              "      <td>19.2</td>\n",
              "      <td>2.5</td>\n",
              "    </tr>\n",
              "    <tr>\n",
              "      <th>11</th>\n",
              "      <td>NW</td>\n",
              "      <td>292400</td>\n",
              "      <td>18.9</td>\n",
              "      <td>0.6</td>\n",
              "    </tr>\n",
              "    <tr>\n",
              "      <th>17</th>\n",
              "      <td>XE</td>\n",
              "      <td>309360</td>\n",
              "      <td>18.1</td>\n",
              "      <td>1.7</td>\n",
              "    </tr>\n",
              "    <tr>\n",
              "      <th>18</th>\n",
              "      <td>YV</td>\n",
              "      <td>243060</td>\n",
              "      <td>18.0</td>\n",
              "      <td>1.9</td>\n",
              "    </tr>\n",
              "    <tr>\n",
              "      <th>15</th>\n",
              "      <td>US</td>\n",
              "      <td>412008</td>\n",
              "      <td>17.3</td>\n",
              "      <td>1.2</td>\n",
              "    </tr>\n",
              "    <tr>\n",
              "      <th>14</th>\n",
              "      <td>UA</td>\n",
              "      <td>376272</td>\n",
              "      <td>16.7</td>\n",
              "      <td>1.7</td>\n",
              "    </tr>\n",
              "    <tr>\n",
              "      <th>2</th>\n",
              "      <td>AS</td>\n",
              "      <td>137140</td>\n",
              "      <td>15.6</td>\n",
              "      <td>0.9</td>\n",
              "    </tr>\n",
              "  </tbody>\n",
              "</table>\n",
              "</div>"
            ],
            "text/plain": [
              "   OP_CARRIER       n  delayed  cancel\n",
              "12         OH  150970     26.8     3.4\n",
              "6          EV  298696     26.3     2.1\n",
              "8          FL  249954     22.6     0.8\n",
              "3          B6  194109     20.5     1.3\n",
              "1          AA  550056     20.0     1.7\n",
              "5          DL  426036     19.8     1.1\n",
              "7          F9   87002     19.7     0.6\n",
              "4          CO  256446     19.4     0.5\n",
              "10         MQ  435670     19.2     2.5\n",
              "11         NW  292400     18.9     0.6\n",
              "17         XE  309360     18.1     1.7\n",
              "18         YV  243060     18.0     1.9\n",
              "15         US  412008     17.3     1.2\n",
              "14         UA  376272     16.7     1.7\n",
              "2          AS  137140     15.6     0.9"
            ]
          },
          "metadata": {},
          "output_type": "display_data"
        },
        {
          "name": "stdout",
          "output_type": "stream",
          "text": [
            "\n",
            "Delay/Cancel rates by ORIGIN (min 100 rows):\n"
          ]
        },
        {
          "data": {
            "application/vnd.microsoft.datawrangler.viewer.v0+json": {
              "columns": [
                {
                  "name": "index",
                  "rawType": "int64",
                  "type": "integer"
                },
                {
                  "name": "ORIGIN",
                  "rawType": "object",
                  "type": "string"
                },
                {
                  "name": "n",
                  "rawType": "int64",
                  "type": "integer"
                },
                {
                  "name": "delayed",
                  "rawType": "float64",
                  "type": "float"
                },
                {
                  "name": "cancel",
                  "rawType": "float64",
                  "type": "float"
                }
              ],
              "ref": "da8c933b-7272-404a-9eef-80681e2e0583",
              "rows": [
                [
                  "11",
                  "AGS",
                  "3107",
                  "35.3",
                  "2.3"
                ],
                [
                  "97",
                  "EYW",
                  "1100",
                  "32.1",
                  "1.0"
                ],
                [
                  "101",
                  "FAY",
                  "3063",
                  "31.5",
                  "2.8"
                ],
                [
                  "75",
                  "DAB",
                  "2146",
                  "31.0",
                  "1.1"
                ],
                [
                  "115",
                  "GNV",
                  "2416",
                  "30.9",
                  "2.0"
                ],
                [
                  "54",
                  "CEC",
                  "1031",
                  "29.9",
                  "3.7"
                ],
                [
                  "227",
                  "PSG",
                  "662",
                  "29.3",
                  "2.7"
                ],
                [
                  "21",
                  "AVL",
                  "4584",
                  "29.0",
                  "2.5"
                ],
                [
                  "33",
                  "BKG",
                  "442",
                  "29.0",
                  "0.9"
                ],
                [
                  "215",
                  "PFN",
                  "3812",
                  "28.6",
                  "1.4"
                ],
                [
                  "7",
                  "ACY",
                  "522",
                  "28.5",
                  "1.9"
                ],
                [
                  "186",
                  "MLB",
                  "1948",
                  "28.5",
                  "1.3"
                ],
                [
                  "170",
                  "LYH",
                  "872",
                  "28.2",
                  "2.2"
                ],
                [
                  "124",
                  "GTR",
                  "771",
                  "28.1",
                  "1.8"
                ],
                [
                  "4",
                  "ACK",
                  "342",
                  "28.1",
                  "3.5"
                ]
              ],
              "shape": {
                "columns": 4,
                "rows": 15
              }
            },
            "text/html": [
              "<div>\n",
              "<style scoped>\n",
              "    .dataframe tbody tr th:only-of-type {\n",
              "        vertical-align: middle;\n",
              "    }\n",
              "\n",
              "    .dataframe tbody tr th {\n",
              "        vertical-align: top;\n",
              "    }\n",
              "\n",
              "    .dataframe thead th {\n",
              "        text-align: right;\n",
              "    }\n",
              "</style>\n",
              "<table border=\"1\" class=\"dataframe\">\n",
              "  <thead>\n",
              "    <tr style=\"text-align: right;\">\n",
              "      <th></th>\n",
              "      <th>ORIGIN</th>\n",
              "      <th>n</th>\n",
              "      <th>delayed</th>\n",
              "      <th>cancel</th>\n",
              "    </tr>\n",
              "  </thead>\n",
              "  <tbody>\n",
              "    <tr>\n",
              "      <th>11</th>\n",
              "      <td>AGS</td>\n",
              "      <td>3107</td>\n",
              "      <td>35.3</td>\n",
              "      <td>2.3</td>\n",
              "    </tr>\n",
              "    <tr>\n",
              "      <th>97</th>\n",
              "      <td>EYW</td>\n",
              "      <td>1100</td>\n",
              "      <td>32.1</td>\n",
              "      <td>1.0</td>\n",
              "    </tr>\n",
              "    <tr>\n",
              "      <th>101</th>\n",
              "      <td>FAY</td>\n",
              "      <td>3063</td>\n",
              "      <td>31.5</td>\n",
              "      <td>2.8</td>\n",
              "    </tr>\n",
              "    <tr>\n",
              "      <th>75</th>\n",
              "      <td>DAB</td>\n",
              "      <td>2146</td>\n",
              "      <td>31.0</td>\n",
              "      <td>1.1</td>\n",
              "    </tr>\n",
              "    <tr>\n",
              "      <th>115</th>\n",
              "      <td>GNV</td>\n",
              "      <td>2416</td>\n",
              "      <td>30.9</td>\n",
              "      <td>2.0</td>\n",
              "    </tr>\n",
              "    <tr>\n",
              "      <th>54</th>\n",
              "      <td>CEC</td>\n",
              "      <td>1031</td>\n",
              "      <td>29.9</td>\n",
              "      <td>3.7</td>\n",
              "    </tr>\n",
              "    <tr>\n",
              "      <th>227</th>\n",
              "      <td>PSG</td>\n",
              "      <td>662</td>\n",
              "      <td>29.3</td>\n",
              "      <td>2.7</td>\n",
              "    </tr>\n",
              "    <tr>\n",
              "      <th>21</th>\n",
              "      <td>AVL</td>\n",
              "      <td>4584</td>\n",
              "      <td>29.0</td>\n",
              "      <td>2.5</td>\n",
              "    </tr>\n",
              "    <tr>\n",
              "      <th>33</th>\n",
              "      <td>BKG</td>\n",
              "      <td>442</td>\n",
              "      <td>29.0</td>\n",
              "      <td>0.9</td>\n",
              "    </tr>\n",
              "    <tr>\n",
              "      <th>215</th>\n",
              "      <td>PFN</td>\n",
              "      <td>3812</td>\n",
              "      <td>28.6</td>\n",
              "      <td>1.4</td>\n",
              "    </tr>\n",
              "    <tr>\n",
              "      <th>7</th>\n",
              "      <td>ACY</td>\n",
              "      <td>522</td>\n",
              "      <td>28.5</td>\n",
              "      <td>1.9</td>\n",
              "    </tr>\n",
              "    <tr>\n",
              "      <th>186</th>\n",
              "      <td>MLB</td>\n",
              "      <td>1948</td>\n",
              "      <td>28.5</td>\n",
              "      <td>1.3</td>\n",
              "    </tr>\n",
              "    <tr>\n",
              "      <th>170</th>\n",
              "      <td>LYH</td>\n",
              "      <td>872</td>\n",
              "      <td>28.2</td>\n",
              "      <td>2.2</td>\n",
              "    </tr>\n",
              "    <tr>\n",
              "      <th>124</th>\n",
              "      <td>GTR</td>\n",
              "      <td>771</td>\n",
              "      <td>28.1</td>\n",
              "      <td>1.8</td>\n",
              "    </tr>\n",
              "    <tr>\n",
              "      <th>4</th>\n",
              "      <td>ACK</td>\n",
              "      <td>342</td>\n",
              "      <td>28.1</td>\n",
              "      <td>3.5</td>\n",
              "    </tr>\n",
              "  </tbody>\n",
              "</table>\n",
              "</div>"
            ],
            "text/plain": [
              "    ORIGIN     n  delayed  cancel\n",
              "11     AGS  3107     35.3     2.3\n",
              "97     EYW  1100     32.1     1.0\n",
              "101    FAY  3063     31.5     2.8\n",
              "75     DAB  2146     31.0     1.1\n",
              "115    GNV  2416     30.9     2.0\n",
              "54     CEC  1031     29.9     3.7\n",
              "227    PSG   662     29.3     2.7\n",
              "21     AVL  4584     29.0     2.5\n",
              "33     BKG   442     29.0     0.9\n",
              "215    PFN  3812     28.6     1.4\n",
              "7      ACY   522     28.5     1.9\n",
              "186    MLB  1948     28.5     1.3\n",
              "170    LYH   872     28.2     2.2\n",
              "124    GTR   771     28.1     1.8\n",
              "4      ACK   342     28.1     3.5"
            ]
          },
          "metadata": {},
          "output_type": "display_data"
        },
        {
          "name": "stdout",
          "output_type": "stream",
          "text": [
            "\n",
            "Delay/Cancel rates by DEST (min 100 rows):\n"
          ]
        },
        {
          "data": {
            "application/vnd.microsoft.datawrangler.viewer.v0+json": {
              "columns": [
                {
                  "name": "index",
                  "rawType": "int64",
                  "type": "integer"
                },
                {
                  "name": "DEST",
                  "rawType": "object",
                  "type": "string"
                },
                {
                  "name": "n",
                  "rawType": "int64",
                  "type": "integer"
                },
                {
                  "name": "delayed",
                  "rawType": "float64",
                  "type": "float"
                },
                {
                  "name": "cancel",
                  "rawType": "float64",
                  "type": "float"
                }
              ],
              "ref": "5f058423-20ff-476e-b2b2-acf2998a1841",
              "rows": [
                [
                  "97",
                  "EYW",
                  "1099",
                  "32.2",
                  "0.6"
                ],
                [
                  "96",
                  "EWR",
                  "118602",
                  "30.5",
                  "2.5"
                ],
                [
                  "75",
                  "DAB",
                  "2149",
                  "29.2",
                  "0.9"
                ],
                [
                  "53",
                  "CDV",
                  "726",
                  "27.3",
                  "1.0"
                ],
                [
                  "186",
                  "MLB",
                  "1946",
                  "27.1",
                  "1.2"
                ],
                [
                  "294",
                  "YAK",
                  "719",
                  "26.7",
                  "0.7"
                ],
                [
                  "227",
                  "PSG",
                  "662",
                  "26.4",
                  "2.0"
                ],
                [
                  "160",
                  "LGA",
                  "100323",
                  "26.4",
                  "3.9"
                ],
                [
                  "170",
                  "LYH",
                  "872",
                  "25.9",
                  "2.1"
                ],
                [
                  "271",
                  "STT",
                  "2984",
                  "25.9",
                  "0.4"
                ],
                [
                  "101",
                  "FAY",
                  "3062",
                  "25.8",
                  "2.1"
                ],
                [
                  "291",
                  "WRG",
                  "722",
                  "25.5",
                  "2.6"
                ],
                [
                  "72",
                  "CSG",
                  "1394",
                  "25.3",
                  "1.4"
                ],
                [
                  "18",
                  "ATL",
                  "417457",
                  "25.3",
                  "1.5"
                ],
                [
                  "190",
                  "MOD",
                  "1679",
                  "25.2",
                  "3.3"
                ]
              ],
              "shape": {
                "columns": 4,
                "rows": 15
              }
            },
            "text/html": [
              "<div>\n",
              "<style scoped>\n",
              "    .dataframe tbody tr th:only-of-type {\n",
              "        vertical-align: middle;\n",
              "    }\n",
              "\n",
              "    .dataframe tbody tr th {\n",
              "        vertical-align: top;\n",
              "    }\n",
              "\n",
              "    .dataframe thead th {\n",
              "        text-align: right;\n",
              "    }\n",
              "</style>\n",
              "<table border=\"1\" class=\"dataframe\">\n",
              "  <thead>\n",
              "    <tr style=\"text-align: right;\">\n",
              "      <th></th>\n",
              "      <th>DEST</th>\n",
              "      <th>n</th>\n",
              "      <th>delayed</th>\n",
              "      <th>cancel</th>\n",
              "    </tr>\n",
              "  </thead>\n",
              "  <tbody>\n",
              "    <tr>\n",
              "      <th>97</th>\n",
              "      <td>EYW</td>\n",
              "      <td>1099</td>\n",
              "      <td>32.2</td>\n",
              "      <td>0.6</td>\n",
              "    </tr>\n",
              "    <tr>\n",
              "      <th>96</th>\n",
              "      <td>EWR</td>\n",
              "      <td>118602</td>\n",
              "      <td>30.5</td>\n",
              "      <td>2.5</td>\n",
              "    </tr>\n",
              "    <tr>\n",
              "      <th>75</th>\n",
              "      <td>DAB</td>\n",
              "      <td>2149</td>\n",
              "      <td>29.2</td>\n",
              "      <td>0.9</td>\n",
              "    </tr>\n",
              "    <tr>\n",
              "      <th>53</th>\n",
              "      <td>CDV</td>\n",
              "      <td>726</td>\n",
              "      <td>27.3</td>\n",
              "      <td>1.0</td>\n",
              "    </tr>\n",
              "    <tr>\n",
              "      <th>186</th>\n",
              "      <td>MLB</td>\n",
              "      <td>1946</td>\n",
              "      <td>27.1</td>\n",
              "      <td>1.2</td>\n",
              "    </tr>\n",
              "    <tr>\n",
              "      <th>294</th>\n",
              "      <td>YAK</td>\n",
              "      <td>719</td>\n",
              "      <td>26.7</td>\n",
              "      <td>0.7</td>\n",
              "    </tr>\n",
              "    <tr>\n",
              "      <th>227</th>\n",
              "      <td>PSG</td>\n",
              "      <td>662</td>\n",
              "      <td>26.4</td>\n",
              "      <td>2.0</td>\n",
              "    </tr>\n",
              "    <tr>\n",
              "      <th>160</th>\n",
              "      <td>LGA</td>\n",
              "      <td>100323</td>\n",
              "      <td>26.4</td>\n",
              "      <td>3.9</td>\n",
              "    </tr>\n",
              "    <tr>\n",
              "      <th>170</th>\n",
              "      <td>LYH</td>\n",
              "      <td>872</td>\n",
              "      <td>25.9</td>\n",
              "      <td>2.1</td>\n",
              "    </tr>\n",
              "    <tr>\n",
              "      <th>271</th>\n",
              "      <td>STT</td>\n",
              "      <td>2984</td>\n",
              "      <td>25.9</td>\n",
              "      <td>0.4</td>\n",
              "    </tr>\n",
              "    <tr>\n",
              "      <th>101</th>\n",
              "      <td>FAY</td>\n",
              "      <td>3062</td>\n",
              "      <td>25.8</td>\n",
              "      <td>2.1</td>\n",
              "    </tr>\n",
              "    <tr>\n",
              "      <th>291</th>\n",
              "      <td>WRG</td>\n",
              "      <td>722</td>\n",
              "      <td>25.5</td>\n",
              "      <td>2.6</td>\n",
              "    </tr>\n",
              "    <tr>\n",
              "      <th>72</th>\n",
              "      <td>CSG</td>\n",
              "      <td>1394</td>\n",
              "      <td>25.3</td>\n",
              "      <td>1.4</td>\n",
              "    </tr>\n",
              "    <tr>\n",
              "      <th>18</th>\n",
              "      <td>ATL</td>\n",
              "      <td>417457</td>\n",
              "      <td>25.3</td>\n",
              "      <td>1.5</td>\n",
              "    </tr>\n",
              "    <tr>\n",
              "      <th>190</th>\n",
              "      <td>MOD</td>\n",
              "      <td>1679</td>\n",
              "      <td>25.2</td>\n",
              "      <td>3.3</td>\n",
              "    </tr>\n",
              "  </tbody>\n",
              "</table>\n",
              "</div>"
            ],
            "text/plain": [
              "    DEST       n  delayed  cancel\n",
              "97   EYW    1099     32.2     0.6\n",
              "96   EWR  118602     30.5     2.5\n",
              "75   DAB    2149     29.2     0.9\n",
              "53   CDV     726     27.3     1.0\n",
              "186  MLB    1946     27.1     1.2\n",
              "294  YAK     719     26.7     0.7\n",
              "227  PSG     662     26.4     2.0\n",
              "160  LGA  100323     26.4     3.9\n",
              "170  LYH     872     25.9     2.1\n",
              "271  STT    2984     25.9     0.4\n",
              "101  FAY    3062     25.8     2.1\n",
              "291  WRG     722     25.5     2.6\n",
              "72   CSG    1394     25.3     1.4\n",
              "18   ATL  417457     25.3     1.5\n",
              "190  MOD    1679     25.2     3.3"
            ]
          },
          "metadata": {},
          "output_type": "display_data"
        },
        {
          "data": {
            "image/png": "[encoded data removed]",
            "text/plain": [
              "<Figure size 700x400 with 1 Axes>"
            ]
          },
          "metadata": {},
          "output_type": "display_data"
        },
        {
          "data": {
            "image/png": "[encoded data removed]",
            "text/plain": [
              "<Figure size 800x500 with 1 Axes>"
            ]
          },
          "metadata": {},
          "output_type": "display_data"
        }
      ],
      "source": [
        "# Examples: carrier, origin, dest\n",
        "if \"OP_CARRIER\" in df.columns:\n",
        "    print(\"\\nDelay/Cancel rates by OP_CARRIER (min 100 rows):\")\n",
        "    display(rate_table(df, \"OP_CARRIER\"))\n",
        "if \"ORIGIN\" in df.columns:\n",
        "    print(\"\\nDelay/Cancel rates by ORIGIN (min 100 rows):\")\n",
        "    display(rate_table(df, \"ORIGIN\"))\n",
        "if \"DEST\" in df.columns:\n",
        "    print(\"\\nDelay/Cancel rates by DEST (min 100 rows):\")\n",
        "    display(rate_table(df, \"DEST\"))\n",
        "\n",
        "\n",
        "# 9) Simple visuals (matplotlib only)\n",
        "\n",
        "plt.figure(figsize=(7,4))\n",
        "if \"ARR_DELAY\" in df.columns:\n",
        "    # Clip extreme positives for a readable histogram\n",
        "    arr_clip = df[\"ARR_DELAY\"].clip(lower=-60, upper=180)\n",
        "    plt.hist(arr_clip.dropna(), bins=60)\n",
        "    plt.title(\"Arrival Delay (clipped to [-60, 180] min)\")\n",
        "    plt.xlabel(\"Minutes\")\n",
        "    plt.ylabel(\"Count\")\n",
        "    plt.show()\n",
        "\n",
        "# Top 20 busiest ORIGINs by count\n",
        "if \"ORIGIN\" in df.columns:\n",
        "    top_origin = df[\"ORIGIN\"].value_counts().head(20)\n",
        "    plt.figure(figsize=(8,5))\n",
        "    top_origin.sort_values().plot(kind=\"barh\")\n",
        "    plt.title(\"Top 20 ORIGIN airports (by flights)\")\n",
        "    plt.xlabel(\"Flights\")\n",
        "    plt.ylabel(\"Airport\")\n",
        "    plt.tight_layout()\n",
        "    plt.show()\n",
        "\n",
        "\n",
        "\n"
      ]
    },
    {
      "cell_type": "code",
      "execution_count": 27,
      "metadata": {},
      "outputs": [
        {
          "name": "stdout",
          "output_type": "stream",
          "text": [
            "\n",
            "Prepared `df_clean` with typed fields and engineered features.\n",
            "     FL_DATE OP_CARRIER  OP_CARRIER_FL_NUM ORIGIN DEST  CRS_DEP_TIME  \\\n",
            "0 2009-01-01         XE               1204    DCA  EWR          1100   \n",
            "1 2009-01-01         XE               1206    EWR  IAD          1510   \n",
            "2 2009-01-01         XE               1207    EWR  DCA          1100   \n",
            "\n",
            "   DEP_TIME  DEP_DELAY  TAXI_OUT  WHEELS_OFF  ...  CARRIER_DELAY  \\\n",
            "0    1058.0       -2.0      18.0      1116.0  ...            NaN   \n",
            "1    1509.0       -1.0      28.0      1537.0  ...            NaN   \n",
            "2    1059.0       -1.0      20.0      1119.0  ...            NaN   \n",
            "\n",
            "   WEATHER_DELAY  NAS_DELAY  SECURITY_DELAY  LATE_AIRCRAFT_DELAY  \\\n",
            "0            NaN        NaN             NaN                  NaN   \n",
            "1            NaN        NaN             NaN                  NaN   \n",
            "2            NaN        NaN             NaN                  NaN   \n",
            "\n",
            "           CRS_DEP_DT              DEP_DT          CRS_ARR_DT  \\\n",
            "0 2009-01-01 11:00:00 2009-01-01 10:58:00 2009-01-01 12:02:00   \n",
            "1 2009-01-01 15:10:00 2009-01-01 15:09:00 2009-01-01 16:32:00   \n",
            "2 2009-01-01 11:00:00 2009-01-01 10:59:00 2009-01-01 12:10:00   \n",
            "\n",
            "               ARR_DT  IS_DELAYED_15  \n",
            "0 2009-01-01 12:06:00              0  \n",
            "1 2009-01-01 16:24:00              0  \n",
            "2 2009-01-01 12:01:00              0  \n",
            "\n",
            "[3 rows x 33 columns]\n"
          ]
        }
      ],
      "source": [
        "# 10) Save a cleaned/typed output df\n",
        "\n",
        "# Optional: small, typed, analysis-ready subset\n",
        "keep_cols = [\n",
        "    \"FL_DATE\",\"OP_CARRIER\",\"OP_CARRIER_FL_NUM\",\"ORIGIN\",\"DEST\",\n",
        "    \"CRS_DEP_TIME\",\"DEP_TIME\",\"DEP_DELAY\",\"TAXI_OUT\",\"WHEELS_OFF\",\n",
        "    \"WHEELS_ON\",\"TAXI_IN\",\"CRS_ARR_TIME\",\"ARR_TIME\",\"ARR_DELAY\",\n",
        "    \"CANCELLED\",\"CANCELLATION_CODE\",\"CANCELLATION_REASON\",\"DIVERTED\",\n",
        "    \"CRS_ELAPSED_TIME\",\"ACTUAL_ELAPSED_TIME\",\"AIR_TIME\",\"DISTANCE\",\n",
        "    \"CARRIER_DELAY\",\"WEATHER_DELAY\",\"NAS_DELAY\",\"SECURITY_DELAY\",\"LATE_AIRCRAFT_DELAY\",\n",
        "    \"CRS_DEP_DT\",\"DEP_DT\",\"CRS_ARR_DT\",\"ARR_DT\",\"IS_DELAYED_15\"\n",
        "]\n",
        "keep_cols = [c for c in keep_cols if c in df.columns]\n",
        "df_clean = df[keep_cols].copy()\n",
        "\n",
        "# Example export (commented out):\n",
        "# df_clean.to_parquet(\"dot_delays_clean.parquet\", index=False)\n",
        "# df_clean.to_csv(\"dot_delays_clean.csv\", index=False)\n",
        "\n",
        "print(\"\\nPrepared `df_clean` with typed fields and engineered features.\")\n",
        "print(df_clean.head(3))"
      ]
    },
    {
      "cell_type": "code",
      "execution_count": null,
      "metadata": {},
      "outputs": [],
      "source": []
    }
  ],
  "metadata": {
    "colab": {
      "include_colab_link": true,
      "provenance": []
    },
    "kernelspec": {
      "display_name": "ads502",
      "language": "python",
      "name": "python3"
    },
    "language_info": {
      "codemirror_mode": {
        "name": "ipython",
        "version": 3
      },
      "file_extension": ".py",
      "mimetype": "text/x-python",
      "name": "python",
      "nbconvert_exporter": "python",
      "pygments_lexer": "ipython3",
      "version": "3.10.18"
    }
  },
  "nbformat": 4,
  "nbformat_minor": 0
}
